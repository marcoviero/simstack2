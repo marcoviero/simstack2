{
 "cells": [
  {
   "cell_type": "code",
   "execution_count": 1,
   "id": "23e01b61",
   "metadata": {},
   "outputs": [
    {
     "data": {
      "text/html": [
       "<style>.container { width:100% !important; }</style>"
      ],
      "text/plain": [
       "<IPython.core.display.HTML object>"
      ]
     },
     "metadata": {},
     "output_type": "display_data"
    }
   ],
   "source": [
    "# Standard modules\n",
    "import pdb\n",
    "import os\n",
    "import os.path\n",
    "import sys\n",
    "import shutil\n",
    "import time\n",
    "import logging\n",
    "import numpy as np\n",
    "import pandas as pd\n",
    "import pickle\n",
    "import matplotlib as mpl\n",
    "import matplotlib.cm as cm\n",
    "import matplotlib.pyplot as plt\n",
    "\n",
    "from IPython.core.display import display, HTML\n",
    "display(HTML(\"<style>.container { width:100% !important; }</style>\"))"
   ]
  },
  {
   "cell_type": "code",
   "execution_count": 2,
   "id": "35f412e9",
   "metadata": {},
   "outputs": [
    {
     "name": "stdout",
     "output_type": "stream",
     "text": [
      "env: MAPSPATH=D:\\\\maps\n",
      "env: CATSPATH=D:\\\\catalogs\n",
      "env: PICKLESPATH=D:\\\\pickles\n"
     ]
    }
   ],
   "source": [
    "# If os is Windows set the environment variables here.  Otherwise done in .bashrc\n",
    "if os.name == 'nt':\n",
    "    %env MAPSPATH=D:\\\\maps\n",
    "    %env CATSPATH=D:\\\\catalogs\n",
    "    %env PICKLESPATH=D:\\\\pickles"
   ]
  },
  {
   "cell_type": "code",
   "execution_count": 3,
   "id": "c72993a0",
   "metadata": {},
   "outputs": [],
   "source": [
    "# Modules within this package\n",
    "sys.path.append(os.path.join('..'))\n",
    "import parameters\n",
    "from bincatalogs import Field_catalogs\n",
    "from simstack import stack_libraries_in_layers\n",
    "from simstack import stack_libraries_in_layers_w_background\n",
    "from skymaps import Skymaps\n",
    "\n",
    "def run_simstack_from_config(param_file_path):\n",
    "    # Set up logging\n",
    "    logging.basicConfig(\n",
    "        level=logging.INFO,\n",
    "        format='%(asctime)s  %(message)s',\n",
    "        datefmt='%Y-%d-%m %I:%M:%S %p')\n",
    "\n",
    "    # Get parameters from the provided parameter file\n",
    "    #param_file_path = sys.argv[1]\n",
    "    params = parameters.get_params_dict(param_file_path)\n",
    "    \n",
    "    # Separate maps to stack\n",
    "    libarary_keys = []\n",
    "    for x in params['maps_to_stack']:\n",
    "        if (params['maps_to_stack'][x].split(' ')[1]) == 'True':\n",
    "            libarary_keys.append(x)\n",
    "\n",
    "    params['library_keys'] = libarary_keys\n",
    "\n",
    "    zkey = params['general']['zkey']\n",
    "    mkey = params['general']['mkey']\n",
    "    rkey = params['general']['ra_key']\n",
    "    dkey = params['general']['dec_key']\n",
    "\n",
    "    t0 = time.time()\n",
    "\n",
    "    if params['binning']['bin_in_lookbackt'] == \"True\":\n",
    "        z_pref = 'lookt'\n",
    "        z_list = str(params['binning']['redshift_nodes']).split(' ')\n",
    "        nodes = [float(ele) for ele in z_list]\n",
    "    else:\n",
    "        z_pref = 'z'    \n",
    "        z_list = str(params['binning']['redshift_nodes']).split(' ')\n",
    "        nodes = [float(ele) for ele in z_list]\n",
    "    \n",
    "    # Stack in Slices or ALL AT ONCE Choice made here\n",
    "    if params['binning']['all_z_at_once'] == \"True\":\n",
    "        n_slices = 1\n",
    "    else:\n",
    "        n_slices = len(nodes) - 1\n",
    "        \n",
    "    # Save Parameter file in folder\n",
    "    #save_paramfile(params)\n",
    "\n",
    "    #pdb.set_trace()\n",
    "    stacked_flux_densities_dict = {}\n",
    "    for i in range(n_slices):\n",
    "        if n_slices == 1:\n",
    "            j = None\n",
    "            stacked_flux_density_key = 'all_' + z_pref\n",
    "        else:\n",
    "            j = i\n",
    "            if params['binning']['bin_in_lookbackt'] == \"True\":\n",
    "                stacked_flux_density_key = '{:.2f}'.format(nodes[j]) + '-' + '{:.2f}'.format(\n",
    "                    nodes[j + 1])\n",
    "            else:\n",
    "                stacked_flux_density_key = str(nodes[j]) + '-' + str(\n",
    "                    nodes[j + 1])\n",
    "\n",
    "        print(stacked_flux_density_key)\n",
    "        # From parameter file read maps, psfs, cats, and divide them into bins\n",
    "        \n",
    "        sky_library = get_maps(params)\n",
    "        cats = get_catalogs(params)        \n",
    "        \n",
    "        binned_ra_dec = get_bin_radec(params, cats, single_slice=j)\n",
    "        stacked_flux_densities = stack_libraries_in_layers(sky_library, binned_ra_dec)\n",
    "        \n",
    "        stacked_flux_densities_dict[stacked_flux_density_key] = stacked_flux_densities\n",
    "        #pdb.set_trace()\n",
    "\n",
    "    # Summarize timing\n",
    "    t1 = time.time()\n",
    "    tpass = t1 - t0\n",
    "\n",
    "    return stacked_flux_densities_dict\n",
    "    logging.info(\"Done!\")\n",
    "    logging.info(\"\")\n",
    "    logging.info(\"Total time                        : {:.4f} minutes\\n\".format(tpass / 60.))\n",
    "\n",
    "\n",
    "def get_maps(params):\n",
    "    '''\n",
    "    Read maps and psfs and store into dictionaries\n",
    "    '''\n",
    "    sky_library = {}\n",
    "\n",
    "    for t in params['library_keys']:\n",
    "        psf_in = params['beams'][t].split(' ')\n",
    "        map_in = os.path.join(os.environ['MAPSPATH'],params['map_files'][t])\n",
    "        noise_in = os.path.join(os.environ['MAPSPATH'],params['noise_files'][t])\n",
    "        map_in = params['map_files'][t]\n",
    "        noise_in = params['noise_files'][t]\n",
    "        psf = float(psf_in[0])\n",
    "        beam_area = float(psf_in[1])\n",
    "        color_correction = float(params['color_correction'][t])\n",
    "        \n",
    "        sky = Skymaps(map_in, noise_in, psf,\n",
    "                      color_correction=color_correction, beam_area=beam_area)\n",
    "        \n",
    "        sky.add_wavelength(float(params['maps_to_stack'][t].split(' ')[0]))\n",
    "        sky.add_fwhm(psf)\n",
    "        sky_library[t] = sky\n",
    "        \n",
    "    return sky_library\n",
    "\n",
    "\n",
    "def get_catalogs(params):\n",
    "    # Formatting no longer needed as\n",
    "    \n",
    "    #tbl = pd.read_table(params['catalogs']['catalog_path'] + params['catalogs']['catalog_file'], sep=',')\n",
    "    path_cat = [env for env in params['catalogs']['catalog_path'].split(' ')]\n",
    "    path_cat[0] = os.environ[path_cat[0]]\n",
    "    path_cat = os.path.join(*path_cat)\n",
    "    file_cat = params['catalogs']['catalog_file']\n",
    "    #tbl = pd.read_table(os.path.join(path_cat,file_cat))\n",
    "    tbl = pd.read_csv(os.path.join(path_cat,file_cat))\n",
    "    \n",
    "    tbl['ID'] = range(len(tbl))\n",
    "    #pdb.set_trace()\n",
    "    if 'sfg' in tbl.keys():\n",
    "        pass\n",
    "    elif 'CLASS' in tbl.keys():\n",
    "        tbl['sfg'] = tbl['CLASS']\n",
    "\n",
    "    zkey = params['general']['zkey']\n",
    "    mkey = params['general']['mkey']\n",
    "    rkey = params['general']['ra_key']\n",
    "    dkey = params['general']['dec_key']\n",
    "    catout = Field_catalogs(tbl, zkey=zkey, mkey=mkey, rkey=rkey, dkey=dkey)\n",
    "\n",
    "    return catout\n",
    "\n",
    "\n",
    "def get_bin_ids(params, cats, single_slice=None):\n",
    "    if single_slice == None:\n",
    "        z_nodes = params['bins']['z_nodes']\n",
    "    else:\n",
    "        z_nodes = params['bins']['z_nodes'][single_slice:single_slice + 2]\n",
    "    m_nodes = params['bins']['m_nodes']\n",
    "\n",
    "    if params['galaxy_splitting_scheme'] == 'sf-qt':\n",
    "        cats.separate_sf_qt()\n",
    "        cats.get_sf_qt_mass_redshift_bins(z_nodes, m_nodes)\n",
    "        bin_ids = cats.id_z_ms\n",
    "    elif params['galaxy_splitting_scheme'] == '5pops':\n",
    "        Fcut = params['cuts']['fcut']\n",
    "        MIPS24_cut = params['cuts']['mips24_cut']\n",
    "        cats.separate_5pops(Fcut=Fcut, MIPS24_cut=MIPS24_cut)\n",
    "        cats.get_5pops_mass_redshift_bins(z_nodes, m_nodes)\n",
    "        bin_ids = cats.id_z_ms_5pop\n",
    "    elif params['galaxy_splitting_scheme'] == '4pops':\n",
    "        Fcut = params['cuts']['fcut']\n",
    "        age_cut = params['cuts']['age_cut']\n",
    "        cats.separate_4pops(Fcut=Fcut, age_cut=age_cut)\n",
    "        cats.get_4pops_mass_redshift_bins(z_nodes, m_nodes)\n",
    "        bin_ids = cats.id_z_ms_4pop\n",
    "    elif params['galaxy_splitting_scheme'] == 'uvj':\n",
    "        c_nodes = params['populations']['c_nodes']\n",
    "        c_names = params['populations']['pop_names']\n",
    "        cats.table['UVJ'] = np.sqrt((cats.table['rf_U_V'] - np.min(cats.table['rf_U_V'])) ** 2 + (\n",
    "                cats.table['rf_V_J'] - np.min(cats.table['rf_V_J'])) ** 2)\n",
    "        cats.separate_uvj_pops(c_nodes)\n",
    "        cats.get_mass_redshift_uvj_bins(z_nodes, m_nodes, c_names)\n",
    "        bin_ids = cats.id_z_ms_pop\n",
    "    elif params['galaxy_splitting_scheme'] == 'general':\n",
    "        cuts_dict = params['populations']\n",
    "        cats.separate_pops_by_name(cuts_dict)\n",
    "        cats.get_subpop_ids(z_nodes, m_nodes, cuts_dict)\n",
    "        bin_ids = cats.subpop_ids\n",
    "\n",
    "    return bin_ids\n",
    "\n",
    "\n",
    "def get_bin_radec(params, cats, single_slice=None):\n",
    "    z_list = str(params['binning']['redshift_nodes']).split(' ')\n",
    "    z_nodes = [float(ele) for ele in z_list]    \n",
    "    if single_slice != None:\n",
    "        z_nodes = z_nodes[single_slice:single_slice + 2]\n",
    "    m_list = str(params['binning']['mass_nodes']).split(' ')\n",
    "    m_nodes = [float(ele) for ele in m_list]     \n",
    "    \n",
    "    if params['general']['classification_scheme'] == 'sf-qt':\n",
    "        cats.separate_sf_qt()\n",
    "        cats.get_sf_qt_mass_redshift_bins(z_nodes, m_nodes)\n",
    "        binned_ra_dec = cats.subset_positions(cats.id_z_ms)\n",
    "    elif params['general']['classification_scheme'] == '5pops':\n",
    "        Fcut = params['cuts']['fcut']\n",
    "        MIPS24_cut = params['cuts']['mips24_cut']\n",
    "        cats.separate_5pops(Fcut=Fcut, MIPS24_cut=MIPS24_cut)\n",
    "        cats.get_5pops_mass_redshift_bins(z_nodes, m_nodes)\n",
    "        binned_ra_dec = cats.subset_positions(cats.id_z_ms_5pop)\n",
    "    elif params['general']['classification_scheme'] == '4pops':\n",
    "        Fcut = params['cuts']['fcut']\n",
    "        age_cut = params['cuts']['age_cut']\n",
    "        cats.separate_4pops(Fcut=Fcut, age_cut=age_cut)\n",
    "        cats.get_4pops_mass_redshift_bins(z_nodes, m_nodes)\n",
    "        binned_ra_dec = cats.subset_positions(cats.id_z_ms_4pop)\n",
    "    elif params['general']['classification_scheme'] == 'uvj':\n",
    "        c_nodes = params['populations']['c_nodes']\n",
    "        c_names = params['populations']['pop_names']\n",
    "        cats.table['UVJ'] = np.sqrt((cats.table['rf_U_V'] - np.min(cats.table['rf_U_V'])) ** 2 + (\n",
    "                cats.table['rf_V_J'] - np.min(cats.table['rf_V_J'])) ** 2)\n",
    "        cats.separate_uvj_pops(c_nodes)\n",
    "        cats.get_mass_redshift_uvj_bins(z_nodes, m_nodes, c_names)\n",
    "        binned_ra_dec = cats.subset_positions(cats.id_z_ms_pop)\n",
    "    elif params['general']['classification_scheme'] == 'general':\n",
    "        #pdb.set_trace()\n",
    "        cuts_dict = params['populations']\n",
    "        #cuts_dict = {ele[0]:ele[1:] for ele in pop_list} \n",
    "        cats.separate_pops_by_name(cuts_dict)\n",
    "        cats.get_subpop_ids(z_nodes, m_nodes, cuts_dict)\n",
    "        binned_ra_dec = cats.subset_positions(cats.subpop_ids)\n",
    "\n",
    "    print(z_nodes)\n",
    "    return binned_ra_dec\n",
    "\n",
    "\n",
    "def save_stacked_fluxes(stacked_fluxes, params, out_file_path, out_file_suffix, IDs=None):\n",
    "    fpath = \"%s/%s_%s%s.p\" % (\n",
    "        out_file_path, params['io']['flux_densities_filename'], params['io']['shortname'], out_file_suffix)\n",
    "    print('pickling to ' + fpath)\n",
    "    if not os.path.exists(out_file_path): os.makedirs(out_file_path)\n",
    "\n",
    "    if IDs == None:\n",
    "        pickle.dump(stacked_fluxes, open(fpath, \"wb\"))  # , protocol=2 )\n",
    "    else:\n",
    "        pickle.dump([IDs, stacked_fluxes], open(fpath, \"wb\"))  # , protocol=2 )\n",
    "\n",
    "\n",
    "def save_paramfile(params):\n",
    "    fp_in = params['io']['param_file_path']\n",
    "    if params['bootstrap'] == True:\n",
    "        outdir = params['io']['output_folder'] + '/bootstrapped_fluxes/' + params['io']['shortname']\n",
    "    else:\n",
    "        outdir = params['io']['output_folder'] + '/simstack_fluxes/' + params['io']['shortname']\n",
    "    print('writing parameter file to ' + outdir)\n",
    "    if not os.path.exists(outdir): os.makedirs(outdir)\n",
    "    fname = os.path.basename(fp_in)\n",
    "    fp_out = os.path.join(outdir, fname)\n",
    "\n",
    "    logging.info(\"Copying parameter file...\")\n",
    "    logging.info(\"  FROM : {}\".format(fp_in))\n",
    "    logging.info(\"    TO : {}\".format(fp_out))\n",
    "    logging.info(\"\")\n",
    "\n",
    "    shutil.copyfile(fp_in, fp_out)"
   ]
  },
  {
   "cell_type": "code",
   "execution_count": 4,
   "id": "4244c34f",
   "metadata": {},
   "outputs": [],
   "source": [
    "path_example = 'C://Users//viero//Repositories//simstack2/examples/'\n",
    "file_example = 'example.ini'"
   ]
  },
  {
   "cell_type": "code",
   "execution_count": 5,
   "id": "3cee7a82",
   "metadata": {},
   "outputs": [
    {
     "data": {
      "text/plain": [
       "True"
      ]
     },
     "execution_count": 5,
     "metadata": {},
     "output_type": "execute_result"
    }
   ],
   "source": [
    "os.path.exists(os.path.join(path_example,file_example))"
   ]
  },
  {
   "cell_type": "code",
   "execution_count": 6,
   "id": "3360b8f8",
   "metadata": {},
   "outputs": [],
   "source": [
    "params = parameters.get_params_dict(os.path.join(path_example,file_example))"
   ]
  },
  {
   "cell_type": "code",
   "execution_count": 7,
   "id": "2fdd1cc3",
   "metadata": {},
   "outputs": [
    {
     "name": "stdout",
     "output_type": "stream",
     "text": [
      "0.01-0.5\n",
      "2\n",
      "[0.01, 0.5]\n",
      "stacking spire_psw\n",
      "stacking spire_plw\n",
      "0.5-1.0\n",
      "2\n",
      "[0.5, 1.0]\n",
      "stacking spire_psw\n",
      "stacking spire_plw\n",
      "1.0-1.5\n",
      "2\n",
      "[1.0, 1.5]\n",
      "stacking spire_psw\n",
      "stacking spire_plw\n",
      "1.5-2.0\n",
      "2\n",
      "[1.5, 2.0]\n",
      "stacking spire_psw\n",
      "stacking spire_plw\n",
      "2.0-2.5\n",
      "2\n",
      "[2.0, 2.5]\n",
      "stacking spire_psw\n",
      "stacking spire_plw\n",
      "2.5-3.0\n",
      "2\n",
      "[2.5, 3.0]\n",
      "stacking spire_psw\n",
      "stacking spire_plw\n",
      "3.0-3.5\n",
      "2\n",
      "[3.0, 3.5]\n",
      "stacking spire_psw\n",
      "stacking spire_plw\n",
      "3.5-4.0\n",
      "2\n",
      "[3.5, 4.0]\n",
      "stacking spire_psw\n",
      "stacking spire_plw\n"
     ]
    }
   ],
   "source": [
    "stacked_flux_densities_dict = run_simstack_from_config(os.path.join(path_example,file_example))\n",
    "result_keys = list(stacked_flux_densities_dict.keys())"
   ]
  },
  {
   "cell_type": "code",
   "execution_count": 11,
   "id": "e0fca181",
   "metadata": {},
   "outputs": [
    {
     "data": {
      "text/plain": [
       "dict_keys(['0.01-0.5', '0.5-1.0', '1.0-1.5', '1.5-2.0', '2.0-2.5', '2.5-3.0', '3.0-3.5', '3.5-4.0'])"
      ]
     },
     "execution_count": 11,
     "metadata": {},
     "output_type": "execute_result"
    }
   ],
   "source": [
    "stacked_flux_densities_dict.keys()"
   ]
  },
  {
   "cell_type": "code",
   "execution_count": null,
   "id": "a92437e3",
   "metadata": {},
   "outputs": [],
   "source": [
    "wavelength_dict = {'mips_24':24,'spire_psw':250,'spire_plw':500}"
   ]
  },
  {
   "cell_type": "code",
   "execution_count": 8,
   "id": "f790836c",
   "metadata": {},
   "outputs": [
    {
     "data": {
      "image/png": "[encoded data removed]",
      "text/plain": [
       "<Figure size 432x288 with 1 Axes>"
      ]
     },
     "metadata": {
      "needs_background": "light"
     },
     "output_type": "display_data"
    }
   ],
   "source": [
    "norm = mpl.colors.Normalize(vmin=8, vmax=13)\n",
    "cmap = cm.spring\n",
    "m = cm.ScalarMappable(norm=norm, cmap=cmap)\n",
    "\n",
    "for i, iz in enumerate(result_keys):\n",
    "    for kk in stacked_flux_densities_dict[iz]['spire_plw']:\n",
    "        z = (float(result_keys[i].split('-')[0])+float(result_keys[i].split('-')[1]))/2\n",
    "        test_dict = stacked_flux_densities_dict[iz]['spire_plw']\n",
    "        \n",
    "        gal_type = 'sf'\n",
    "        gal_key = [key for key, val in test_dict.items() if gal_type in key]\n",
    "        gal_val = [val for key, val in test_dict.items() if gal_type in key]\n",
    "        res = [val for key, val in test_dict.items() if gal_type in key]\n",
    "        for i, imass in enumerate(gal_val):\n",
    "            mass = (float(gal_key[i].split('_')[5].replace('p','.')) + float(gal_key[i].split('_')[6].replace('p','.')))/2\n",
    "            plt.plot(z,imass['value'],'o',c=m.to_rgba(mass))"
   ]
  },
  {
   "cell_type": "code",
   "execution_count": 9,
   "id": "e0e4ea4a",
   "metadata": {},
   "outputs": [
    {
     "data": {
      "image/png": "[encoded data removed]",
      "text/plain": [
       "<Figure size 432x288 with 1 Axes>"
      ]
     },
     "metadata": {
      "needs_background": "light"
     },
     "output_type": "display_data"
    }
   ],
   "source": [
    "norm = mpl.colors.Normalize(vmin=8, vmax=13)\n",
    "cmap = cm.hot\n",
    "m = cm.ScalarMappable(norm=norm, cmap=cmap)\n",
    "\n",
    "for i, iz in enumerate(result_keys):\n",
    "    for kk in stacked_flux_densities_dict[iz]['spire_plw']:\n",
    "        z = (float(result_keys[i].split('-')[0])+float(result_keys[i].split('-')[1]))/2\n",
    "        test_dict = stacked_flux_densities_dict[iz]['spire_plw']\n",
    "        \n",
    "        gal_type = 'dead'\n",
    "        gal_key = [key for key, val in test_dict.items() if gal_type in key]\n",
    "        gal_val = [val for key, val in test_dict.items() if gal_type in key]\n",
    "        res = [val for key, val in test_dict.items() if gal_type in key]\n",
    "        for i, imass in enumerate(gal_val):\n",
    "            mass = (float(gal_key[i].split('_')[5].replace('p','.')) + float(gal_key[i].split('_')[6].replace('p','.')))/2\n",
    "            plt.plot(z,imass['value'],'o',c=m.to_rgba(mass))"
   ]
  },
  {
   "cell_type": "code",
   "execution_count": null,
   "id": "36792f75",
   "metadata": {},
   "outputs": [],
   "source": []
  }
 ],
 "metadata": {
  "kernelspec": {
   "display_name": "Python 3",
   "language": "python",
   "name": "python3"
  },
  "language_info": {
   "codemirror_mode": {
    "name": "ipython",
    "version": 3
   },
   "file_extension": ".py",
   "mimetype": "text/x-python",
   "name": "python",
   "nbconvert_exporter": "python",
   "pygments_lexer": "ipython3",
   "version": "3.8.10"
  }
 },
 "nbformat": 4,
 "nbformat_minor": 5
}
