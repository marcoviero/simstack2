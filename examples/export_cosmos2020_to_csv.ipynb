{
 "cells": [
  {
   "cell_type": "code",
   "execution_count": 1,
   "id": "d8310dfb",
   "metadata": {},
   "outputs": [
    {
     "data": {
      "text/html": [
       "<style>.container { width:90% !important; }</style>"
      ],
      "text/plain": [
       "<IPython.core.display.HTML object>"
      ]
     },
     "metadata": {},
     "output_type": "display_data"
    }
   ],
   "source": [
    "# Standard modules\n",
    "import pdb\n",
    "import os\n",
    "import sys\n",
    "import matplotlib.pyplot as plt\n",
    "\n",
    "sys.path.append('..')\n",
    "from simstackwrapper import SimstackWrapper\n",
    "\n",
    "from IPython.core.display import display, HTML\n",
    "display(HTML(\"<style>.container { width:90% !important; }</style>\"))"
   ]
  },
  {
   "cell_type": "markdown",
   "id": "d9c8f4e2",
   "metadata": {},
   "source": [
    "# Import .fits table"
   ]
  },
  {
   "cell_type": "code",
   "execution_count": 2,
   "id": "28a0b57e",
   "metadata": {},
   "outputs": [
    {
     "name": "stdout",
     "output_type": "stream",
     "text": [
      "Open  D:\\catalogs\\cosmos\\COSMOS2020_CLASSIC_R1_v2.0.fits\n"
     ]
    }
   ],
   "source": [
    "from astropy.io import fits\n",
    "path_cosmos2020 = os.path.join(os.environ['CATSPATH'], \"cosmos\",\"COSMOS2020_CLASSIC_R1_v2.0.fits\")\n",
    "if os.path.isfile(path_cosmos2020):\n",
    "    print('Open ',path_cosmos2020)\n",
    "    with fits.open(path_cosmos2020) as hdul:\n",
    "        hdul.verify('fix')\n",
    "        cosmos_catalog = hdul[1].data\n",
    "else:\n",
    "    print(path_cosmos2020, ' not found')"
   ]
  },
  {
   "cell_type": "code",
   "execution_count": 4,
   "id": "e1d6989c",
   "metadata": {},
   "outputs": [],
   "source": [
    "import pandas as pd\n",
    "cosmos2020 = pd.DataFrame(cosmos_catalog)"
   ]
  },
  {
   "cell_type": "code",
   "execution_count": 5,
   "id": "8fbd4aa3",
   "metadata": {},
   "outputs": [
    {
     "data": {
      "text/html": [
       "<div>\n",
       "<style scoped>\n",
       "    .dataframe tbody tr th:only-of-type {\n",
       "        vertical-align: middle;\n",
       "    }\n",
       "\n",
       "    .dataframe tbody tr th {\n",
       "        vertical-align: top;\n",
       "    }\n",
       "\n",
       "    .dataframe thead th {\n",
       "        text-align: right;\n",
       "    }\n",
       "</style>\n",
       "<table border=\"1\" class=\"dataframe\">\n",
       "  <thead>\n",
       "    <tr style=\"text-align: right;\">\n",
       "      <th></th>\n",
       "      <th>ID</th>\n",
       "      <th>ALPHA_J2000</th>\n",
       "      <th>DELTA_J2000</th>\n",
       "      <th>X_IMAGE</th>\n",
       "      <th>Y_IMAGE</th>\n",
       "      <th>ERRX2_IMAGE</th>\n",
       "      <th>ERRY2_IMAGE</th>\n",
       "      <th>ERRXY_IMAGE</th>\n",
       "      <th>FLUX_RADIUS</th>\n",
       "      <th>KRON_RADIUS</th>\n",
       "      <th>...</th>\n",
       "      <th>ez_ssfr_p025</th>\n",
       "      <th>ez_ssfr_p160</th>\n",
       "      <th>ez_ssfr_p500</th>\n",
       "      <th>ez_ssfr_p840</th>\n",
       "      <th>ez_ssfr_p975</th>\n",
       "      <th>ez_Av_p025</th>\n",
       "      <th>ez_Av_p160</th>\n",
       "      <th>ez_Av_p500</th>\n",
       "      <th>ez_Av_p840</th>\n",
       "      <th>ez_Av_p975</th>\n",
       "    </tr>\n",
       "  </thead>\n",
       "  <tbody>\n",
       "    <tr>\n",
       "      <th>0</th>\n",
       "      <td>1</td>\n",
       "      <td>151.008534</td>\n",
       "      <td>1.398278</td>\n",
       "      <td>1304.953247</td>\n",
       "      <td>2579.132324</td>\n",
       "      <td>0.000009</td>\n",
       "      <td>0.000010</td>\n",
       "      <td>-8.461303e-07</td>\n",
       "      <td>NaN</td>\n",
       "      <td>NaN</td>\n",
       "      <td>...</td>\n",
       "      <td>3.073000e-14</td>\n",
       "      <td>3.306278e-14</td>\n",
       "      <td>3.696300e-14</td>\n",
       "      <td>3.828873e-14</td>\n",
       "      <td>3.828873e-14</td>\n",
       "      <td>0.704550</td>\n",
       "      <td>0.809278</td>\n",
       "      <td>0.896577</td>\n",
       "      <td>0.961172</td>\n",
       "      <td>1.070924</td>\n",
       "    </tr>\n",
       "    <tr>\n",
       "      <th>1</th>\n",
       "      <td>2</td>\n",
       "      <td>151.028825</td>\n",
       "      <td>1.404349</td>\n",
       "      <td>818.016785</td>\n",
       "      <td>2725.062988</td>\n",
       "      <td>0.000017</td>\n",
       "      <td>0.000017</td>\n",
       "      <td>-8.587199e-07</td>\n",
       "      <td>NaN</td>\n",
       "      <td>NaN</td>\n",
       "      <td>...</td>\n",
       "      <td>NaN</td>\n",
       "      <td>NaN</td>\n",
       "      <td>NaN</td>\n",
       "      <td>NaN</td>\n",
       "      <td>NaN</td>\n",
       "      <td>NaN</td>\n",
       "      <td>NaN</td>\n",
       "      <td>NaN</td>\n",
       "      <td>NaN</td>\n",
       "      <td>NaN</td>\n",
       "    </tr>\n",
       "    <tr>\n",
       "      <th>2</th>\n",
       "      <td>3</td>\n",
       "      <td>151.007706</td>\n",
       "      <td>1.398440</td>\n",
       "      <td>1324.814453</td>\n",
       "      <td>2583.007812</td>\n",
       "      <td>0.006722</td>\n",
       "      <td>0.008490</td>\n",
       "      <td>-7.216642e-04</td>\n",
       "      <td>NaN</td>\n",
       "      <td>NaN</td>\n",
       "      <td>...</td>\n",
       "      <td>NaN</td>\n",
       "      <td>NaN</td>\n",
       "      <td>NaN</td>\n",
       "      <td>NaN</td>\n",
       "      <td>NaN</td>\n",
       "      <td>NaN</td>\n",
       "      <td>NaN</td>\n",
       "      <td>NaN</td>\n",
       "      <td>NaN</td>\n",
       "      <td>NaN</td>\n",
       "    </tr>\n",
       "    <tr>\n",
       "      <th>3</th>\n",
       "      <td>4</td>\n",
       "      <td>150.162372</td>\n",
       "      <td>1.391619</td>\n",
       "      <td>21610.509766</td>\n",
       "      <td>2415.219971</td>\n",
       "      <td>0.031749</td>\n",
       "      <td>0.016943</td>\n",
       "      <td>6.141999e-06</td>\n",
       "      <td>NaN</td>\n",
       "      <td>NaN</td>\n",
       "      <td>...</td>\n",
       "      <td>1.191863e-10</td>\n",
       "      <td>1.356004e-10</td>\n",
       "      <td>1.582931e-10</td>\n",
       "      <td>1.872021e-10</td>\n",
       "      <td>2.076506e-10</td>\n",
       "      <td>1.659753</td>\n",
       "      <td>1.739529</td>\n",
       "      <td>1.869392</td>\n",
       "      <td>1.989442</td>\n",
       "      <td>2.089466</td>\n",
       "    </tr>\n",
       "    <tr>\n",
       "      <th>4</th>\n",
       "      <td>5</td>\n",
       "      <td>149.540181</td>\n",
       "      <td>1.391537</td>\n",
       "      <td>36540.632812</td>\n",
       "      <td>2414.936523</td>\n",
       "      <td>0.030666</td>\n",
       "      <td>0.016909</td>\n",
       "      <td>3.998309e-03</td>\n",
       "      <td>NaN</td>\n",
       "      <td>NaN</td>\n",
       "      <td>...</td>\n",
       "      <td>5.692379e-12</td>\n",
       "      <td>1.106644e-11</td>\n",
       "      <td>8.179705e-11</td>\n",
       "      <td>1.089352e-08</td>\n",
       "      <td>1.089352e-08</td>\n",
       "      <td>0.032678</td>\n",
       "      <td>0.032678</td>\n",
       "      <td>2.129271</td>\n",
       "      <td>3.005573</td>\n",
       "      <td>3.125110</td>\n",
       "    </tr>\n",
       "  </tbody>\n",
       "</table>\n",
       "<p>5 rows × 753 columns</p>\n",
       "</div>"
      ],
      "text/plain": [
       "   ID  ALPHA_J2000  DELTA_J2000       X_IMAGE      Y_IMAGE  ERRX2_IMAGE  \\\n",
       "0   1   151.008534     1.398278   1304.953247  2579.132324     0.000009   \n",
       "1   2   151.028825     1.404349    818.016785  2725.062988     0.000017   \n",
       "2   3   151.007706     1.398440   1324.814453  2583.007812     0.006722   \n",
       "3   4   150.162372     1.391619  21610.509766  2415.219971     0.031749   \n",
       "4   5   149.540181     1.391537  36540.632812  2414.936523     0.030666   \n",
       "\n",
       "   ERRY2_IMAGE   ERRXY_IMAGE  FLUX_RADIUS  KRON_RADIUS  ...  ez_ssfr_p025  \\\n",
       "0     0.000010 -8.461303e-07          NaN          NaN  ...  3.073000e-14   \n",
       "1     0.000017 -8.587199e-07          NaN          NaN  ...           NaN   \n",
       "2     0.008490 -7.216642e-04          NaN          NaN  ...           NaN   \n",
       "3     0.016943  6.141999e-06          NaN          NaN  ...  1.191863e-10   \n",
       "4     0.016909  3.998309e-03          NaN          NaN  ...  5.692379e-12   \n",
       "\n",
       "   ez_ssfr_p160  ez_ssfr_p500  ez_ssfr_p840  ez_ssfr_p975  ez_Av_p025  \\\n",
       "0  3.306278e-14  3.696300e-14  3.828873e-14  3.828873e-14    0.704550   \n",
       "1           NaN           NaN           NaN           NaN         NaN   \n",
       "2           NaN           NaN           NaN           NaN         NaN   \n",
       "3  1.356004e-10  1.582931e-10  1.872021e-10  2.076506e-10    1.659753   \n",
       "4  1.106644e-11  8.179705e-11  1.089352e-08  1.089352e-08    0.032678   \n",
       "\n",
       "   ez_Av_p160  ez_Av_p500  ez_Av_p840  ez_Av_p975  \n",
       "0    0.809278    0.896577    0.961172    1.070924  \n",
       "1         NaN         NaN         NaN         NaN  \n",
       "2         NaN         NaN         NaN         NaN  \n",
       "3    1.739529    1.869392    1.989442    2.089466  \n",
       "4    0.032678    2.129271    3.005573    3.125110  \n",
       "\n",
       "[5 rows x 753 columns]"
      ]
     },
     "execution_count": 5,
     "metadata": {},
     "output_type": "execute_result"
    }
   ],
   "source": [
    "cosmos2020.head()"
   ]
  },
  {
   "cell_type": "markdown",
   "id": "ee955efc",
   "metadata": {},
   "source": [
    "# Convert to vaex for speed"
   ]
  },
  {
   "cell_type": "code",
   "execution_count": 10,
   "id": "6015cbd8",
   "metadata": {},
   "outputs": [],
   "source": [
    "import vaex\n",
    "vaex_df = vaex.from_pandas(cosmos2020, copy_index=False)"
   ]
  },
  {
   "cell_type": "code",
   "execution_count": null,
   "id": "7e621433",
   "metadata": {},
   "outputs": [],
   "source": [
    "# Export to hdf5 for more efficient use later\n",
    "path_cosmos2020_hdf5 = os.path.join(os.environ['CATSPATH'], \"cosmos\",\"cosmos2020.hdf5\")\n",
    "vaex_df.export_hdf5(path_cosmos2020_hdf5)"
   ]
  },
  {
   "cell_type": "code",
   "execution_count": 12,
   "id": "75188bd0",
   "metadata": {},
   "outputs": [],
   "source": [
    "# Convert flux to magnitude\n",
    "# AB = -2.5 log S (Jy) + 8.9\n",
    "vaex_df['rest_AB_U'] = (-2.5 * np.log10(vaex_df.ez_restU * 1e6) + 8.9)\n",
    "vaex_df['rest_AB_V'] = (-2.5 * np.log10(vaex_df.ez_restV * 1e6) + 8.9)\n",
    "vaex_df['rest_AB_J'] = (-2.5 * np.log10(vaex_df.ez_restJ * 1e6) + 8.9)"
   ]
  },
  {
   "cell_type": "code",
   "execution_count": 13,
   "id": "8c6011bb",
   "metadata": {},
   "outputs": [],
   "source": [
    "# Estimate rest-frame U-V and V-J\n",
    "vaex_df['ez_restU-V']=(vaex_df.rest_AB_U - vaex_df.rest_AB_V) \n",
    "vaex_df['ez_restV-J']=(vaex_df.rest_AB_V - vaex_df.rest_AB_J)"
   ]
  },
  {
   "cell_type": "code",
   "execution_count": 41,
   "id": "ba454e32",
   "metadata": {},
   "outputs": [],
   "source": [
    "# Extract subset of array and drop nans\n",
    "features = ['ALPHA_J2000','DELTA_J2000','lp_zBEST','lp_mass_med','ez_restU-V','ez_restV-J','lp_sSFR_med','lp_type']\n",
    "uvj_df_raw = vaex_df[features].dropna()\n",
    "uvj_df = uvj_df_raw[uvj_df_raw['lp_type'] > -99]"
   ]
  },
  {
   "cell_type": "code",
   "execution_count": 48,
   "id": "c199e851",
   "metadata": {},
   "outputs": [
    {
     "name": "stdout",
     "output_type": "stream",
     "text": [
      "[0 1]  unique values present in lp_type\n",
      "0  stars?\n",
      "710077  galaxies\n",
      "8523  agn\n"
     ]
    }
   ],
   "source": [
    "print(np.unique(uvj_df['lp_type'].values), ': unique values present in lp_type')\n",
    "print(np.sum(uvj_df['lp_type'].values == -99), ' stars?')\n",
    "print(np.sum(uvj_df['lp_type'].values == 0), ' galaxies')\n",
    "print(np.sum(uvj_df['lp_type'].values == 1), ' agn')"
   ]
  },
  {
   "cell_type": "code",
   "execution_count": 43,
   "id": "df7f484e",
   "metadata": {},
   "outputs": [
    {
     "data": {
      "text/html": [
       "<table>\n",
       "<thead>\n",
       "<tr><th>#                            </th><th style=\"text-align: right;\">  ALPHA_J2000</th><th style=\"text-align: right;\">  DELTA_J2000</th><th style=\"text-align: right;\">  lp_zBEST</th><th style=\"text-align: right;\">  lp_mass_med</th><th style=\"text-align: right;\">  ez_restU-V</th><th style=\"text-align: right;\">  ez_restV-J</th><th style=\"text-align: right;\">  lp_sSFR_med</th><th style=\"text-align: right;\">  lp_type</th></tr>\n",
       "</thead>\n",
       "<tbody>\n",
       "<tr><td><i style='opacity: 0.6'>0</i></td><td style=\"text-align: right;\">      150.753</td><td style=\"text-align: right;\">      1.60333</td><td style=\"text-align: right;\">    1.2724</td><td style=\"text-align: right;\">      8.4021 </td><td style=\"text-align: right;\">   0.272594 </td><td style=\"text-align: right;\">  0.614739  </td><td style=\"text-align: right;\">     -8.558  </td><td style=\"text-align: right;\">        0</td></tr>\n",
       "<tr><td><i style='opacity: 0.6'>1</i></td><td style=\"text-align: right;\">      150.775</td><td style=\"text-align: right;\">      1.6034 </td><td style=\"text-align: right;\">    2.8991</td><td style=\"text-align: right;\">      9.16265</td><td style=\"text-align: right;\">   0.0517635</td><td style=\"text-align: right;\"> -0.34334   </td><td style=\"text-align: right;\">     -8.32349</td><td style=\"text-align: right;\">        0</td></tr>\n",
       "<tr><td><i style='opacity: 0.6'>2</i></td><td style=\"text-align: right;\">      150.768</td><td style=\"text-align: right;\">      1.60326</td><td style=\"text-align: right;\">    0.9599</td><td style=\"text-align: right;\">      8.703  </td><td style=\"text-align: right;\">   0.828829 </td><td style=\"text-align: right;\">  0.20003   </td><td style=\"text-align: right;\">     -8.88367</td><td style=\"text-align: right;\">        0</td></tr>\n",
       "<tr><td><i style='opacity: 0.6'>3</i></td><td style=\"text-align: right;\">      150.73 </td><td style=\"text-align: right;\">      1.60344</td><td style=\"text-align: right;\">    0.36  </td><td style=\"text-align: right;\">      6.8586 </td><td style=\"text-align: right;\">   0.118297 </td><td style=\"text-align: right;\"> -0.168686  </td><td style=\"text-align: right;\">     -8.45414</td><td style=\"text-align: right;\">        0</td></tr>\n",
       "<tr><td><i style='opacity: 0.6'>4</i></td><td style=\"text-align: right;\">      150.763</td><td style=\"text-align: right;\">      1.60347</td><td style=\"text-align: right;\">    1.2045</td><td style=\"text-align: right;\">      9.19418</td><td style=\"text-align: right;\">   1.01148  </td><td style=\"text-align: right;\">  0.973295  </td><td style=\"text-align: right;\">     -8.96474</td><td style=\"text-align: right;\">        0</td></tr>\n",
       "<tr><td><i style='opacity: 0.6'>5</i></td><td style=\"text-align: right;\">      150.773</td><td style=\"text-align: right;\">      1.60339</td><td style=\"text-align: right;\">    0.4521</td><td style=\"text-align: right;\">      7.9998 </td><td style=\"text-align: right;\">   0.683142 </td><td style=\"text-align: right;\">  0.0741138 </td><td style=\"text-align: right;\">     -8.86948</td><td style=\"text-align: right;\">        0</td></tr>\n",
       "<tr><td><i style='opacity: 0.6'>6</i></td><td style=\"text-align: right;\">      150.751</td><td style=\"text-align: right;\">      1.60363</td><td style=\"text-align: right;\">    0.9492</td><td style=\"text-align: right;\">      8.57284</td><td style=\"text-align: right;\">   1.01296  </td><td style=\"text-align: right;\">  0.85365   </td><td style=\"text-align: right;\">     -8.90076</td><td style=\"text-align: right;\">        0</td></tr>\n",
       "<tr><td><i style='opacity: 0.6'>7</i></td><td style=\"text-align: right;\">      150.728</td><td style=\"text-align: right;\">      1.60363</td><td style=\"text-align: right;\">    1.3587</td><td style=\"text-align: right;\">      8.7253 </td><td style=\"text-align: right;\">   0.493776 </td><td style=\"text-align: right;\"> -0.00156593</td><td style=\"text-align: right;\">     -8.67073</td><td style=\"text-align: right;\">        0</td></tr>\n",
       "<tr><td><i style='opacity: 0.6'>8</i></td><td style=\"text-align: right;\">      150.69 </td><td style=\"text-align: right;\">      1.60371</td><td style=\"text-align: right;\">    4.5398</td><td style=\"text-align: right;\">      9.61413</td><td style=\"text-align: right;\">   0.01161  </td><td style=\"text-align: right;\"> -0.572286  </td><td style=\"text-align: right;\">     -8.34746</td><td style=\"text-align: right;\">        0</td></tr>\n",
       "<tr><td><i style='opacity: 0.6'>9</i></td><td style=\"text-align: right;\">      150.746</td><td style=\"text-align: right;\">      1.60369</td><td style=\"text-align: right;\">    1.3687</td><td style=\"text-align: right;\">      8.35156</td><td style=\"text-align: right;\">   0.533897 </td><td style=\"text-align: right;\"> -0.477738  </td><td style=\"text-align: right;\">     -8.58341</td><td style=\"text-align: right;\">        0</td></tr>\n",
       "</tbody>\n",
       "</table>"
      ],
      "text/plain": [
       "  #    ALPHA_J2000    DELTA_J2000    lp_zBEST    lp_mass_med    ez_restU-V    ez_restV-J    lp_sSFR_med    lp_type\n",
       "  0        150.753        1.60333      1.2724        8.4021      0.272594     0.614739         -8.558            0\n",
       "  1        150.775        1.6034       2.8991        9.16265     0.0517635   -0.34334          -8.32349          0\n",
       "  2        150.768        1.60326      0.9599        8.703       0.828829     0.20003          -8.88367          0\n",
       "  3        150.73         1.60344      0.36          6.8586      0.118297    -0.168686         -8.45414          0\n",
       "  4        150.763        1.60347      1.2045        9.19418     1.01148      0.973295         -8.96474          0\n",
       "  5        150.773        1.60339      0.4521        7.9998      0.683142     0.0741138        -8.86948          0\n",
       "  6        150.751        1.60363      0.9492        8.57284     1.01296      0.85365          -8.90076          0\n",
       "  7        150.728        1.60363      1.3587        8.7253      0.493776    -0.00156593       -8.67073          0\n",
       "  8        150.69         1.60371      4.5398        9.61413     0.01161     -0.572286         -8.34746          0\n",
       "  9        150.746        1.60369      1.3687        8.35156     0.533897    -0.477738         -8.58341          0"
      ]
     },
     "execution_count": 43,
     "metadata": {},
     "output_type": "execute_result"
    }
   ],
   "source": [
    "uvj_df.head()"
   ]
  },
  {
   "cell_type": "markdown",
   "id": "53182f93",
   "metadata": {},
   "source": [
    "# Export simplified, nan-free table, to csv"
   ]
  },
  {
   "cell_type": "code",
   "execution_count": 15,
   "id": "8844c7bd",
   "metadata": {},
   "outputs": [
    {
     "name": "stderr",
     "output_type": "stream",
     "text": [
      "C:\\Users\\viero\\anaconda3\\envs\\simstack\\lib\\site-packages\\vaex\\functions.py:95: RuntimeWarning: invalid value encountered in log10\n",
      "  result = function(*numpy_data, **kwargs)\n"
     ]
    }
   ],
   "source": [
    "path_cosmos2020_csv = os.path.join(os.environ['CATSPATH'], \"cosmos\",\"cosmos2020_UVJ.csv\")\n",
    "uvj_df.export_csv(path_cosmos2020_csv)"
   ]
  },
  {
   "cell_type": "markdown",
   "id": "b3ae1ce8",
   "metadata": {},
   "source": [
    "# Plot U-V/V-J vs specific star-formation rate"
   ]
  },
  {
   "cell_type": "code",
   "execution_count": 32,
   "id": "e22efd3a",
   "metadata": {},
   "outputs": [
    {
     "data": {
      "image/png": "[encoded data removed]",
      "text/plain": [
       "<Figure size 432x288 with 1 Axes>"
      ]
     },
     "metadata": {
      "needs_background": "light"
     },
     "output_type": "display_data"
    }
   ],
   "source": [
    "sfr_cut = -9.5\n",
    "ns=10000\n",
    "uvj_df[:ns].scatter(uvj_df['ez_restV-J'],uvj_df['ez_restU-V'], selection = uvj_df['lp_sSFR_med'] > sfr_cut, alpha=0.25)\n",
    "uvj_df[:ns].scatter(uvj_df['ez_restV-J'],uvj_df['ez_restU-V'], selection = uvj_df['lp_sSFR_med'] <= sfr_cut, alpha=0.25)"
   ]
  },
  {
   "cell_type": "code",
   "execution_count": null,
   "id": "5fbfd106",
   "metadata": {},
   "outputs": [],
   "source": []
  }
 ],
 "metadata": {
  "kernelspec": {
   "display_name": "Python 3",
   "language": "python",
   "name": "python3"
  },
  "language_info": {
   "codemirror_mode": {
    "name": "ipython",
    "version": 3
   },
   "file_extension": ".py",
   "mimetype": "text/x-python",
   "name": "python",
   "nbconvert_exporter": "python",
   "pygments_lexer": "ipython3",
   "version": "3.8.10"
  }
 },
 "nbformat": 4,
 "nbformat_minor": 5
}
