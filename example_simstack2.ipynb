{
 "cells": [
  {
   "cell_type": "code",
   "execution_count": 1,
   "id": "23e01b61",
   "metadata": {
    "scrolled": true
   },
   "outputs": [
    {
     "data": {
      "text/html": [
       "<style>.container { width:90% !important; }</style>"
      ],
      "text/plain": [
       "<IPython.core.display.HTML object>"
      ]
     },
     "metadata": {},
     "output_type": "display_data"
    }
   ],
   "source": [
    "# Standard modules\n",
    "import pdb\n",
    "import os\n",
    "import os.path\n",
    "import sys\n",
    "import json\n",
    "import shutil\n",
    "import time\n",
    "import logging\n",
    "import numpy as np\n",
    "import pandas as pd\n",
    "import pickle\n",
    "import matplotlib as mpl\n",
    "import matplotlib.cm as cm\n",
    "import matplotlib.pyplot as plt\n",
    "\n",
    "sys.path.append('..')\n",
    "from simstack import SimstackWrapper\n",
    "\n",
    "from IPython.core.display import display, HTML\n",
    "display(HTML(\"<style>.container { width:90% !important; }</style>\"))"
   ]
  },
  {
   "cell_type": "code",
   "execution_count": 2,
   "id": "c0187222",
   "metadata": {},
   "outputs": [
    {
     "name": "stdout",
     "output_type": "stream",
     "text": [
      "Number of Layers Stacking Simultaneously = 12\n",
      "Number of Layers Stacking Simultaneously = 12\n",
      "Number of Layers Stacking Simultaneously = 12\n",
      "Number of Layers Stacking Simultaneously = 12\n",
      "Number of Layers Stacking Simultaneously = 12\n",
      "Number of Layers Stacking Simultaneously = 12\n",
      "Number of Layers Stacking Simultaneously = 12\n",
      "Number of Layers Stacking Simultaneously = 12\n",
      "Number of Layers Stacking Simultaneously = 12\n",
      "Number of Layers Stacking Simultaneously = 12\n",
      "Number of Layers Stacking Simultaneously = 12\n",
      "Number of Layers Stacking Simultaneously = 12\n",
      "Number of Layers Stacking Simultaneously = 12\n",
      "Number of Layers Stacking Simultaneously = 12\n",
      "Number of Layers Stacking Simultaneously = 12\n",
      "Number of Layers Stacking Simultaneously = 12\n",
      "Number of Layers Stacking Simultaneously = 12\n",
      "Number of Layers Stacking Simultaneously = 12\n",
      "Number of Layers Stacking Simultaneously = 12\n",
      "Number of Layers Stacking Simultaneously = 12\n",
      "Number of Layers Stacking Simultaneously = 12\n",
      "Number of Layers Stacking Simultaneously = 12\n",
      "Number of Layers Stacking Simultaneously = 12\n",
      "Number of Layers Stacking Simultaneously = 12\n",
      "Number of Layers Stacking Simultaneously = 12\n",
      "Number of Layers Stacking Simultaneously = 12\n",
      "Number of Layers Stacking Simultaneously = 12\n",
      "Number of Layers Stacking Simultaneously = 12\n",
      "Number of Layers Stacking Simultaneously = 12\n",
      "Number of Layers Stacking Simultaneously = 12\n",
      "Number of Layers Stacking Simultaneously = 12\n",
      "Number of Layers Stacking Simultaneously = 12\n"
     ]
    }
   ],
   "source": [
    "path_ini_file = os.path.join(\"examples\",\"cosmos.ini\")\n",
    "cosmos = SimstackWrapper(path_ini_file, stack_automatically=True)\n",
    "cosmos.parse_results()"
   ]
  },
  {
   "cell_type": "code",
   "execution_count": 10,
   "id": "41626b34",
   "metadata": {},
   "outputs": [
    {
     "data": {
      "image/png": "[encoded data removed]",
      "text/plain": [
       "<Figure size 432x288 with 6 Axes>"
      ]
     },
     "metadata": {
      "needs_background": "light"
     },
     "output_type": "display_data"
    }
   ],
   "source": [
    "split_dict = json.loads(cosmos.config_dict['catalog']['classification'])\n",
    "zbins = np.array(json.loads(split_dict['redshift']['bins']))\n",
    "x = np.array(zbins[:-1]+zbins[1:])*0.5\n",
    "wavelengths = list(cosmos.results_dict.keys())\n",
    "if len(wavelengths) < 4:\n",
    "    nrows = 1\n",
    "    ncols = len(wavelengths)\n",
    "else:\n",
    "    nrows = 2\n",
    "    ncols = 3\n",
    "     \n",
    "fig, ax = plt.subplots(nrows=nrows, ncols=ncols)\n",
    "\n",
    "for i, iwv in enumerate(wavelengths):\n",
    "    cosmos_results = cosmos.results_dict[iwv]['flux_density']\n",
    "    nps = np.shape(cosmos_results)\n",
    "\n",
    "    for row in ax:\n",
    "        for col in row:\n",
    "            #plt.subplot(i)\n",
    "            col.plot(x, cosmos_results[:,i,j]*1e3)\n",
    "            col.scatter(x, cosmos_results[:,i,j]*1e3)\n",
    "            col.set_yscale('log')"
   ]
  },
  {
   "cell_type": "code",
   "execution_count": 14,
   "id": "8ebb3081",
   "metadata": {},
   "outputs": [
    {
     "data": {
      "text/plain": [
       "1"
      ]
     },
     "execution_count": 14,
     "metadata": {},
     "output_type": "execute_result"
    }
   ],
   "source": [
    "len(wavelengths)"
   ]
  },
  {
   "cell_type": "code",
   "execution_count": null,
   "id": "c66ff2c1",
   "metadata": {},
   "outputs": [],
   "source": []
  },
  {
   "cell_type": "code",
   "execution_count": 6,
   "id": "b81ad92e",
   "metadata": {},
   "outputs": [
    {
     "name": "stdout",
     "output_type": "stream",
     "text": [
      "Number of Layers Stacking Simultaneously = 3\n",
      "redshift_0p1_1__magnitude_10_20\n",
      "redshift_0p1_1__magnitude_20_30\n",
      "redshift_0p1_1__magnitude_30_45\n",
      "Number of Layers Stacking Simultaneously = 3\n",
      "redshift_1_2__magnitude_10_20\n",
      "redshift_1_2__magnitude_20_30\n",
      "redshift_1_2__magnitude_30_45\n",
      "Number of Layers Stacking Simultaneously = 3\n",
      "redshift_2_3__magnitude_10_20\n",
      "redshift_2_3__magnitude_20_30\n",
      "redshift_2_3__magnitude_30_45\n",
      "Number of Layers Stacking Simultaneously = 3\n",
      "redshift_3_4__magnitude_10_20\n",
      "redshift_3_4__magnitude_20_30\n",
      "redshift_3_4__magnitude_30_45\n",
      "Number of Layers Stacking Simultaneously = 3\n",
      "redshift_4_6__magnitude_10_20\n",
      "redshift_4_6__magnitude_20_30\n",
      "redshift_4_6__magnitude_30_45\n"
     ]
    }
   ],
   "source": [
    "path_ini_file = os.path.join(\"examples\",\"hers_hetdex.ini\")\n",
    "test_hetdex = SimstackWrapper(path_ini_file, stack_automatically=True)\n",
    "test_hetdex.parse_results()"
   ]
  },
  {
   "cell_type": "code",
   "execution_count": 7,
   "id": "2e4be446",
   "metadata": {},
   "outputs": [
    {
     "data": {
      "text/plain": [
       "dict_keys(['redshift_0p1_1', 'redshift_1_2', 'redshift_2_3', 'redshift_3_4', 'redshift_4_6'])"
      ]
     },
     "execution_count": 7,
     "metadata": {},
     "output_type": "execute_result"
    }
   ],
   "source": [
    "test_hetdex.maps_dict['spire_plw']['stacked_flux_densities'].keys()"
   ]
  },
  {
   "cell_type": "code",
   "execution_count": 8,
   "id": "1826008f",
   "metadata": {},
   "outputs": [
    {
     "name": "stdout",
     "output_type": "stream",
     "text": [
      "(5, 3)\n"
     ]
    }
   ],
   "source": [
    "results = test_hetdex.results_dict['spire_plw']['flux_density']\n",
    "nps = np.shape(results)\n",
    "print(nps)"
   ]
  },
  {
   "cell_type": "code",
   "execution_count": 9,
   "id": "7f7a4b3d",
   "metadata": {},
   "outputs": [
    {
     "data": {
      "image/png": "[encoded data removed]",
      "text/plain": [
       "<Figure size 432x288 with 1 Axes>"
      ]
     },
     "metadata": {
      "needs_background": "light"
     },
     "output_type": "display_data"
    }
   ],
   "source": [
    "test_hetdex.parameter_names\n",
    "split_dict = json.loads(test_hetdex.config_dict['catalog']['classification'])\n",
    "zbins = np.array(json.loads(split_dict['redshift']['bins']))\n",
    "x = np.array(zbins[:-1]+zbins[1:])*0.5\n",
    "for i in range(nps[1]):\n",
    "    plt.scatter(x, results[:,i])\n",
    "    plt.yscale('log')"
   ]
  },
  {
   "cell_type": "raw",
   "id": "8b5bb80d",
   "metadata": {},
   "source": [
    "for ilayer in range(3):\n",
    "    layer = 'layer'+str(ilayer)\n",
    "    flux_density_hetdex = []\n",
    "    for i in range(5):\n",
    "        key = str(float(i))\n",
    "        flux_density_hetdex.append(test_hetdex.maps_dict['spire_plw']['stacked_flux_densities'][key].params[layer].value)\n",
    "    split_dict = json.loads(test_hetdex.config_dict['catalog']['classification'])\n",
    "    zbins = np.array(json.loads(split_dict['redshift']['bins']))\n",
    "    x = np.array(zbins[:-1]+zbins[1:])*0.5\n",
    "    plt.scatter(x, np.array(flux_density_hetdex)*1e3, label=layer);\n",
    "    plt.legend()\n",
    "    #plt.ylim([0.00001,0.5])"
   ]
  },
  {
   "cell_type": "code",
   "execution_count": null,
   "id": "17ebecfa",
   "metadata": {},
   "outputs": [],
   "source": []
  },
  {
   "cell_type": "code",
   "execution_count": 6,
   "id": "306b2b91",
   "metadata": {},
   "outputs": [
    {
     "name": "stdout",
     "output_type": "stream",
     "text": [
      "Number of Layers Stacking Simultaneously = 12\n",
      "redshift_0p01_0p5__stellar_mass_8p5_9p0__pops_0\n",
      "redshift_0p01_0p5__stellar_mass_8p5_9p0__pops_1\n",
      "redshift_0p01_0p5__stellar_mass_9p0_9p5__pops_0\n",
      "redshift_0p01_0p5__stellar_mass_9p0_9p5__pops_1\n",
      "redshift_0p01_0p5__stellar_mass_9p5_10p0__pops_0\n",
      "redshift_0p01_0p5__stellar_mass_9p5_10p0__pops_1\n",
      "redshift_0p01_0p5__stellar_mass_10p0_10p5__pops_0\n",
      "redshift_0p01_0p5__stellar_mass_10p0_10p5__pops_1\n",
      "redshift_0p01_0p5__stellar_mass_10p5_11p0__pops_0\n",
      "redshift_0p01_0p5__stellar_mass_10p5_11p0__pops_1\n",
      "redshift_0p01_0p5__stellar_mass_11p0_12p0__pops_0\n",
      "redshift_0p01_0p5__stellar_mass_11p0_12p0__pops_1\n",
      "Number of Layers Stacking Simultaneously = 12\n",
      "redshift_0p5_1p0__stellar_mass_8p5_9p0__pops_0\n",
      "redshift_0p5_1p0__stellar_mass_8p5_9p0__pops_1\n",
      "redshift_0p5_1p0__stellar_mass_9p0_9p5__pops_0\n",
      "redshift_0p5_1p0__stellar_mass_9p0_9p5__pops_1\n",
      "redshift_0p5_1p0__stellar_mass_9p5_10p0__pops_0\n",
      "redshift_0p5_1p0__stellar_mass_9p5_10p0__pops_1\n",
      "redshift_0p5_1p0__stellar_mass_10p0_10p5__pops_0\n",
      "redshift_0p5_1p0__stellar_mass_10p0_10p5__pops_1\n",
      "redshift_0p5_1p0__stellar_mass_10p5_11p0__pops_0\n",
      "redshift_0p5_1p0__stellar_mass_10p5_11p0__pops_1\n",
      "redshift_0p5_1p0__stellar_mass_11p0_12p0__pops_0\n",
      "redshift_0p5_1p0__stellar_mass_11p0_12p0__pops_1\n",
      "Number of Layers Stacking Simultaneously = 12\n",
      "redshift_1p0_1p5__stellar_mass_8p5_9p0__pops_0\n",
      "redshift_1p0_1p5__stellar_mass_8p5_9p0__pops_1\n",
      "redshift_1p0_1p5__stellar_mass_9p0_9p5__pops_0\n",
      "redshift_1p0_1p5__stellar_mass_9p0_9p5__pops_1\n",
      "redshift_1p0_1p5__stellar_mass_9p5_10p0__pops_0\n",
      "redshift_1p0_1p5__stellar_mass_9p5_10p0__pops_1\n",
      "redshift_1p0_1p5__stellar_mass_10p0_10p5__pops_0\n",
      "redshift_1p0_1p5__stellar_mass_10p0_10p5__pops_1\n",
      "redshift_1p0_1p5__stellar_mass_10p5_11p0__pops_0\n",
      "redshift_1p0_1p5__stellar_mass_10p5_11p0__pops_1\n",
      "redshift_1p0_1p5__stellar_mass_11p0_12p0__pops_0\n",
      "redshift_1p0_1p5__stellar_mass_11p0_12p0__pops_1\n",
      "Number of Layers Stacking Simultaneously = 12\n",
      "redshift_1p5_2p0__stellar_mass_8p5_9p0__pops_0\n",
      "redshift_1p5_2p0__stellar_mass_8p5_9p0__pops_1\n",
      "redshift_1p5_2p0__stellar_mass_9p0_9p5__pops_0\n",
      "redshift_1p5_2p0__stellar_mass_9p0_9p5__pops_1\n",
      "redshift_1p5_2p0__stellar_mass_9p5_10p0__pops_0\n",
      "redshift_1p5_2p0__stellar_mass_9p5_10p0__pops_1\n",
      "redshift_1p5_2p0__stellar_mass_10p0_10p5__pops_0\n",
      "redshift_1p5_2p0__stellar_mass_10p0_10p5__pops_1\n",
      "redshift_1p5_2p0__stellar_mass_10p5_11p0__pops_0\n",
      "redshift_1p5_2p0__stellar_mass_10p5_11p0__pops_1\n",
      "redshift_1p5_2p0__stellar_mass_11p0_12p0__pops_0\n",
      "redshift_1p5_2p0__stellar_mass_11p0_12p0__pops_1\n",
      "Number of Layers Stacking Simultaneously = 12\n",
      "redshift_2p0_2p5__stellar_mass_8p5_9p0__pops_0\n",
      "redshift_2p0_2p5__stellar_mass_8p5_9p0__pops_1\n",
      "redshift_2p0_2p5__stellar_mass_9p0_9p5__pops_0\n",
      "redshift_2p0_2p5__stellar_mass_9p0_9p5__pops_1\n",
      "redshift_2p0_2p5__stellar_mass_9p5_10p0__pops_0\n",
      "redshift_2p0_2p5__stellar_mass_9p5_10p0__pops_1\n",
      "redshift_2p0_2p5__stellar_mass_10p0_10p5__pops_0\n",
      "redshift_2p0_2p5__stellar_mass_10p0_10p5__pops_1\n",
      "redshift_2p0_2p5__stellar_mass_10p5_11p0__pops_0\n",
      "redshift_2p0_2p5__stellar_mass_10p5_11p0__pops_1\n",
      "redshift_2p0_2p5__stellar_mass_11p0_12p0__pops_0\n",
      "redshift_2p0_2p5__stellar_mass_11p0_12p0__pops_1\n",
      "Number of Layers Stacking Simultaneously = 12\n",
      "redshift_2p5_3p0__stellar_mass_8p5_9p0__pops_0\n",
      "redshift_2p5_3p0__stellar_mass_8p5_9p0__pops_1\n",
      "redshift_2p5_3p0__stellar_mass_9p0_9p5__pops_0\n",
      "redshift_2p5_3p0__stellar_mass_9p0_9p5__pops_1\n",
      "redshift_2p5_3p0__stellar_mass_9p5_10p0__pops_0\n",
      "redshift_2p5_3p0__stellar_mass_9p5_10p0__pops_1\n",
      "redshift_2p5_3p0__stellar_mass_10p0_10p5__pops_0\n",
      "redshift_2p5_3p0__stellar_mass_10p0_10p5__pops_1\n",
      "redshift_2p5_3p0__stellar_mass_10p5_11p0__pops_0\n",
      "redshift_2p5_3p0__stellar_mass_10p5_11p0__pops_1\n",
      "redshift_2p5_3p0__stellar_mass_11p0_12p0__pops_0\n",
      "redshift_2p5_3p0__stellar_mass_11p0_12p0__pops_1\n",
      "Number of Layers Stacking Simultaneously = 12\n",
      "redshift_3p0_3p5__stellar_mass_8p5_9p0__pops_0\n",
      "redshift_3p0_3p5__stellar_mass_8p5_9p0__pops_1\n",
      "redshift_3p0_3p5__stellar_mass_9p0_9p5__pops_0\n",
      "redshift_3p0_3p5__stellar_mass_9p0_9p5__pops_1\n",
      "redshift_3p0_3p5__stellar_mass_9p5_10p0__pops_0\n",
      "redshift_3p0_3p5__stellar_mass_9p5_10p0__pops_1\n",
      "redshift_3p0_3p5__stellar_mass_10p0_10p5__pops_0\n",
      "redshift_3p0_3p5__stellar_mass_10p0_10p5__pops_1\n",
      "redshift_3p0_3p5__stellar_mass_10p5_11p0__pops_0\n",
      "redshift_3p0_3p5__stellar_mass_10p5_11p0__pops_1\n",
      "redshift_3p0_3p5__stellar_mass_11p0_12p0__pops_0\n",
      "redshift_3p0_3p5__stellar_mass_11p0_12p0__pops_1\n",
      "Number of Layers Stacking Simultaneously = 12\n",
      "redshift_3p5_4p0__stellar_mass_8p5_9p0__pops_0\n",
      "redshift_3p5_4p0__stellar_mass_8p5_9p0__pops_1\n",
      "redshift_3p5_4p0__stellar_mass_9p0_9p5__pops_0\n",
      "redshift_3p5_4p0__stellar_mass_9p0_9p5__pops_1\n",
      "redshift_3p5_4p0__stellar_mass_9p5_10p0__pops_0\n",
      "redshift_3p5_4p0__stellar_mass_9p5_10p0__pops_1\n",
      "redshift_3p5_4p0__stellar_mass_10p0_10p5__pops_0\n",
      "redshift_3p5_4p0__stellar_mass_10p0_10p5__pops_1\n",
      "redshift_3p5_4p0__stellar_mass_10p5_11p0__pops_0\n",
      "redshift_3p5_4p0__stellar_mass_10p5_11p0__pops_1\n",
      "redshift_3p5_4p0__stellar_mass_11p0_12p0__pops_0\n",
      "redshift_3p5_4p0__stellar_mass_11p0_12p0__pops_1\n"
     ]
    }
   ],
   "source": [
    "path_ini_file = os.path.join(\"examples\",\"example.ini\")\n",
    "test_uvista = SimstackWrapper(path_ini_file, stack_automatically=True)\n",
    "test_uvista.parse_results()"
   ]
  },
  {
   "cell_type": "code",
   "execution_count": 9,
   "id": "9bbc556c",
   "metadata": {},
   "outputs": [
    {
     "name": "stdout",
     "output_type": "stream",
     "text": [
      "(8, 6, 2)\n"
     ]
    }
   ],
   "source": [
    "uvista_results = test_uvista.results_dict['spire_plw']['flux_density']\n",
    "nps = np.shape(uvista_results)\n",
    "print(nps)"
   ]
  },
  {
   "cell_type": "code",
   "execution_count": 7,
   "id": "7e1c9c00",
   "metadata": {},
   "outputs": [
    {
     "data": {
      "text/plain": [
       "{'redshift_0p01_0p5': <lmfit.minimizer.MinimizerResult at 0x2173b170dc0>,\n",
       " 'redshift_0p5_1p0': <lmfit.minimizer.MinimizerResult at 0x217370751f0>,\n",
       " 'redshift_1p0_1p5': <lmfit.minimizer.MinimizerResult at 0x2173b180ca0>,\n",
       " 'redshift_1p5_2p0': <lmfit.minimizer.MinimizerResult at 0x2173b144ee0>,\n",
       " 'redshift_2p0_2p5': <lmfit.minimizer.MinimizerResult at 0x2173b181880>,\n",
       " 'redshift_2p5_3p0': <lmfit.minimizer.MinimizerResult at 0x2173b170c10>,\n",
       " 'redshift_3p0_3p5': <lmfit.minimizer.MinimizerResult at 0x2173b181280>,\n",
       " 'redshift_3p5_4p0': <lmfit.minimizer.MinimizerResult at 0x2173b170910>}"
      ]
     },
     "execution_count": 7,
     "metadata": {},
     "output_type": "execute_result"
    }
   ],
   "source": [
    "test_uvista.maps_dict['spire_plw']['stacked_flux_densities']"
   ]
  },
  {
   "cell_type": "code",
   "execution_count": 18,
   "id": "46076090",
   "metadata": {},
   "outputs": [
    {
     "data": {
      "text/plain": [
       "[0.01, 0.5, 1.0, 1.5, 2.0, 2.5, 3.0, 3.5, 4.0]"
      ]
     },
     "execution_count": 18,
     "metadata": {},
     "output_type": "execute_result"
    }
   ],
   "source": [
    "json.loads(json.loads(test_uvista.config_dict['catalog']['classification'])['redshift']['bins'])"
   ]
  },
  {
   "cell_type": "code",
   "execution_count": 19,
   "id": "e31c9557",
   "metadata": {},
   "outputs": [
    {
     "data": {
      "image/png": "[encoded data removed]",
      "text/plain": [
       "<Figure size 432x288 with 1 Axes>"
      ]
     },
     "metadata": {
      "needs_background": "light"
     },
     "output_type": "display_data"
    }
   ],
   "source": [
    "split_dict = json.loads(test_uvista.config_dict['catalog']['classification'])\n",
    "zbins = np.array(json.loads(split_dict['redshift']['bins']))\n",
    "x = np.array(zbins[:-1]+zbins[1:])*0.5\n",
    "for i in range(nps[1]):\n",
    "    for j in range(nps[2]):\n",
    "        plt.plot(x, uvista_results[:,i,j]*1e3)\n",
    "        plt.yscale ('log')"
   ]
  },
  {
   "cell_type": "code",
   "execution_count": null,
   "id": "92f465c4",
   "metadata": {},
   "outputs": [],
   "source": []
  },
  {
   "cell_type": "code",
   "execution_count": 14,
   "id": "290177cb",
   "metadata": {},
   "outputs": [
    {
     "data": {
      "text/html": [
       "<table><tr><th> name </th><th> value </th><th> standard error </th><th> relative error </th><th> initial value </th><th> min </th><th> max </th><th> vary </th></tr><tr><td> redshift_1p0_1p5__stellar_mass_8p5_9p0__pops_0 </td><td> -6.7229e-04 </td><td>  2.8897e-06 </td><td> (0.43%) </td><td> -0.00034128148862879625 </td><td>        -inf </td><td>         inf </td><td> True </td></tr><tr><td> redshift_1p0_1p5__stellar_mass_8p5_9p0__pops_1 </td><td>  2.0890e-05 </td><td>  8.7846e-08 </td><td> (0.42%) </td><td> -7.433786121485206e-06 </td><td>        -inf </td><td>         inf </td><td> True </td></tr><tr><td> redshift_1p0_1p5__stellar_mass_9p0_9p5__pops_0 </td><td>  6.4934e-05 </td><td>  9.6952e-07 </td><td> (1.49%) </td><td> 0.0016745769502356572 </td><td>        -inf </td><td>         inf </td><td> True </td></tr><tr><td> redshift_1p0_1p5__stellar_mass_9p0_9p5__pops_1 </td><td>  6.9974e-06 </td><td>  8.6445e-08 </td><td> (1.24%) </td><td> 0.0011028313089929982 </td><td>        -inf </td><td>         inf </td><td> True </td></tr><tr><td> redshift_1p0_1p5__stellar_mass_9p5_10p0__pops_0 </td><td> -3.9916e-05 </td><td>  7.0893e-07 </td><td> (1.78%) </td><td> 0.0006787935996712521 </td><td>        -inf </td><td>         inf </td><td> True </td></tr><tr><td> redshift_1p0_1p5__stellar_mass_9p5_10p0__pops_1 </td><td> -1.7164e-05 </td><td>  1.0515e-07 </td><td> (0.61%) </td><td> -1.4242419677621057e-05 </td><td>        -inf </td><td>         inf </td><td> True </td></tr><tr><td> redshift_1p0_1p5__stellar_mass_10p0_10p5__pops_0 </td><td> -1.3026e-04 </td><td>  6.3296e-07 </td><td> (0.49%) </td><td> 0.001274608713260782 </td><td>        -inf </td><td>         inf </td><td> True </td></tr><tr><td> redshift_1p0_1p5__stellar_mass_10p0_10p5__pops_1 </td><td> -7.9068e-05 </td><td>  2.3001e-07 </td><td> (0.29%) </td><td> 0.0012451952900935691 </td><td>        -inf </td><td>         inf </td><td> True </td></tr><tr><td> redshift_1p0_1p5__stellar_mass_10p5_11p0__pops_0 </td><td> -8.6952e-05 </td><td>  6.1701e-07 </td><td> (0.71%) </td><td> 0.000124222072599132 </td><td>        -inf </td><td>         inf </td><td> True </td></tr><tr><td> redshift_1p0_1p5__stellar_mass_10p5_11p0__pops_1 </td><td> -1.1707e-04 </td><td>  3.4383e-07 </td><td> (0.29%) </td><td> 0.0008437409603862795 </td><td>        -inf </td><td>         inf </td><td> True </td></tr><tr><td> redshift_1p0_1p5__stellar_mass_11p0_12p0__pops_0 </td><td> -9.5597e-06 </td><td>  5.2229e-07 </td><td> (5.46%) </td><td> 0.0002286608013774442 </td><td>        -inf </td><td>         inf </td><td> True </td></tr><tr><td> redshift_1p0_1p5__stellar_mass_11p0_12p0__pops_1 </td><td> -7.3175e-05 </td><td>  9.0633e-07 </td><td> (1.24%) </td><td> 0.0011434291523663828 </td><td>        -inf </td><td>         inf </td><td> True </td></tr></table>"
      ],
      "text/plain": [
       "Parameters([('redshift_1p0_1p5__stellar_mass_8p5_9p0__pops_0',\n",
       "             <Parameter 'redshift_1p0_1p5__stellar_mass_8p5_9p0__pops_0', value=-0.0006722942659655533 +/- 2.89e-06, bounds=[-inf:inf]>),\n",
       "            ('redshift_1p0_1p5__stellar_mass_8p5_9p0__pops_1',\n",
       "             <Parameter 'redshift_1p0_1p5__stellar_mass_8p5_9p0__pops_1', value=2.089007102803389e-05 +/- 8.78e-08, bounds=[-inf:inf]>),\n",
       "            ('redshift_1p0_1p5__stellar_mass_9p0_9p5__pops_0',\n",
       "             <Parameter 'redshift_1p0_1p5__stellar_mass_9p0_9p5__pops_0', value=6.493400607380575e-05 +/- 9.7e-07, bounds=[-inf:inf]>),\n",
       "            ('redshift_1p0_1p5__stellar_mass_9p0_9p5__pops_1',\n",
       "             <Parameter 'redshift_1p0_1p5__stellar_mass_9p0_9p5__pops_1', value=6.99743001178106e-06 +/- 8.64e-08, bounds=[-inf:inf]>),\n",
       "            ('redshift_1p0_1p5__stellar_mass_9p5_10p0__pops_0',\n",
       "             <Parameter 'redshift_1p0_1p5__stellar_mass_9p5_10p0__pops_0', value=-3.9916101361618414e-05 +/- 7.09e-07, bounds=[-inf:inf]>),\n",
       "            ('redshift_1p0_1p5__stellar_mass_9p5_10p0__pops_1',\n",
       "             <Parameter 'redshift_1p0_1p5__stellar_mass_9p5_10p0__pops_1', value=-1.716404354639623e-05 +/- 1.05e-07, bounds=[-inf:inf]>),\n",
       "            ('redshift_1p0_1p5__stellar_mass_10p0_10p5__pops_0',\n",
       "             <Parameter 'redshift_1p0_1p5__stellar_mass_10p0_10p5__pops_0', value=-0.00013026065898781344 +/- 6.33e-07, bounds=[-inf:inf]>),\n",
       "            ('redshift_1p0_1p5__stellar_mass_10p0_10p5__pops_1',\n",
       "             <Parameter 'redshift_1p0_1p5__stellar_mass_10p0_10p5__pops_1', value=-7.906757377788623e-05 +/- 2.3e-07, bounds=[-inf:inf]>),\n",
       "            ('redshift_1p0_1p5__stellar_mass_10p5_11p0__pops_0',\n",
       "             <Parameter 'redshift_1p0_1p5__stellar_mass_10p5_11p0__pops_0', value=-8.695164903496451e-05 +/- 6.17e-07, bounds=[-inf:inf]>),\n",
       "            ('redshift_1p0_1p5__stellar_mass_10p5_11p0__pops_1',\n",
       "             <Parameter 'redshift_1p0_1p5__stellar_mass_10p5_11p0__pops_1', value=-0.00011707386685517143 +/- 3.44e-07, bounds=[-inf:inf]>),\n",
       "            ('redshift_1p0_1p5__stellar_mass_11p0_12p0__pops_0',\n",
       "             <Parameter 'redshift_1p0_1p5__stellar_mass_11p0_12p0__pops_0', value=-9.55974719068046e-06 +/- 5.22e-07, bounds=[-inf:inf]>),\n",
       "            ('redshift_1p0_1p5__stellar_mass_11p0_12p0__pops_1',\n",
       "             <Parameter 'redshift_1p0_1p5__stellar_mass_11p0_12p0__pops_1', value=-7.317520108954115e-05 +/- 9.06e-07, bounds=[-inf:inf]>)])"
      ]
     },
     "execution_count": 14,
     "metadata": {},
     "output_type": "execute_result"
    }
   ],
   "source": [
    "key = 'redshift_1p0_1p5'\n",
    "test_uvista.maps_dict['spire_plw']['stacked_flux_densities'][key].params"
   ]
  },
  {
   "cell_type": "code",
   "execution_count": 7,
   "id": "8db4aec0",
   "metadata": {},
   "outputs": [
    {
     "data": {
      "image/png": "[encoded data removed]",
      "text/plain": [
       "<Figure size 432x288 with 1 Axes>"
      ]
     },
     "metadata": {
      "needs_background": "light"
     },
     "output_type": "display_data"
    }
   ],
   "source": []
  },
  {
   "cell_type": "code",
   "execution_count": 53,
   "id": "287e6073",
   "metadata": {},
   "outputs": [
    {
     "data": {
      "text/plain": [
       "array([0.55, 1.5 , 2.5 , 3.5 , 4.5 , 5.5 ])"
      ]
     },
     "execution_count": 53,
     "metadata": {},
     "output_type": "execute_result"
    }
   ],
   "source": [
    "x"
   ]
  },
  {
   "cell_type": "code",
   "execution_count": 39,
   "id": "613d6a45",
   "metadata": {},
   "outputs": [
    {
     "data": {
      "text/plain": [
       "[0.00036364386013441896,\n",
       " 0.00041375502216667423,\n",
       " 0.0002950844461433852,\n",
       " 0.00018458649009391308,\n",
       " -8.367427002030895e-05,\n",
       " -0.0005145838158841628]"
      ]
     },
     "execution_count": 39,
     "metadata": {},
     "output_type": "execute_result"
    }
   ],
   "source": [
    "flux_density"
   ]
  },
  {
   "cell_type": "code",
   "execution_count": 5,
   "id": "d3fb6279",
   "metadata": {},
   "outputs": [
    {
     "data": {
      "text/html": [
       "<div>\n",
       "<style scoped>\n",
       "    .dataframe tbody tr th:only-of-type {\n",
       "        vertical-align: middle;\n",
       "    }\n",
       "\n",
       "    .dataframe tbody tr th {\n",
       "        vertical-align: top;\n",
       "    }\n",
       "\n",
       "    .dataframe thead th {\n",
       "        text-align: right;\n",
       "    }\n",
       "</style>\n",
       "<table border=\"1\" class=\"dataframe\">\n",
       "  <thead>\n",
       "    <tr style=\"text-align: right;\">\n",
       "      <th></th>\n",
       "      <th>ra</th>\n",
       "      <th>dec</th>\n",
       "      <th>redshift</th>\n",
       "      <th>stellar_mass</th>\n",
       "    </tr>\n",
       "  </thead>\n",
       "  <tbody>\n",
       "    <tr>\n",
       "      <th>0</th>\n",
       "      <td>34.347645</td>\n",
       "      <td>-0.898693</td>\n",
       "      <td>2.0</td>\n",
       "      <td>0.0</td>\n",
       "    </tr>\n",
       "    <tr>\n",
       "      <th>1</th>\n",
       "      <td>34.356080</td>\n",
       "      <td>-0.903736</td>\n",
       "      <td>3.0</td>\n",
       "      <td>0.0</td>\n",
       "    </tr>\n",
       "    <tr>\n",
       "      <th>2</th>\n",
       "      <td>34.356940</td>\n",
       "      <td>-0.894889</td>\n",
       "      <td>5.0</td>\n",
       "      <td>0.0</td>\n",
       "    </tr>\n",
       "    <tr>\n",
       "      <th>3</th>\n",
       "      <td>34.348330</td>\n",
       "      <td>-0.921676</td>\n",
       "      <td>2.0</td>\n",
       "      <td>0.0</td>\n",
       "    </tr>\n",
       "    <tr>\n",
       "      <th>4</th>\n",
       "      <td>34.382614</td>\n",
       "      <td>-0.794835</td>\n",
       "      <td>1.0</td>\n",
       "      <td>0.0</td>\n",
       "    </tr>\n",
       "    <tr>\n",
       "      <th>...</th>\n",
       "      <td>...</td>\n",
       "      <td>...</td>\n",
       "      <td>...</td>\n",
       "      <td>...</td>\n",
       "    </tr>\n",
       "    <tr>\n",
       "      <th>50780</th>\n",
       "      <td>13.849249</td>\n",
       "      <td>-0.328271</td>\n",
       "      <td>1.0</td>\n",
       "      <td>0.0</td>\n",
       "    </tr>\n",
       "    <tr>\n",
       "      <th>50781</th>\n",
       "      <td>19.643736</td>\n",
       "      <td>-0.160820</td>\n",
       "      <td>2.0</td>\n",
       "      <td>0.0</td>\n",
       "    </tr>\n",
       "    <tr>\n",
       "      <th>50782</th>\n",
       "      <td>13.537420</td>\n",
       "      <td>-0.319323</td>\n",
       "      <td>0.0</td>\n",
       "      <td>0.0</td>\n",
       "    </tr>\n",
       "    <tr>\n",
       "      <th>50783</th>\n",
       "      <td>22.692255</td>\n",
       "      <td>-0.133485</td>\n",
       "      <td>0.0</td>\n",
       "      <td>0.0</td>\n",
       "    </tr>\n",
       "    <tr>\n",
       "      <th>50784</th>\n",
       "      <td>26.857704</td>\n",
       "      <td>-0.454477</td>\n",
       "      <td>1.0</td>\n",
       "      <td>0.0</td>\n",
       "    </tr>\n",
       "  </tbody>\n",
       "</table>\n",
       "<p>50785 rows × 4 columns</p>\n",
       "</div>"
      ],
      "text/plain": [
       "              ra       dec  redshift  stellar_mass\n",
       "0      34.347645 -0.898693       2.0           0.0\n",
       "1      34.356080 -0.903736       3.0           0.0\n",
       "2      34.356940 -0.894889       5.0           0.0\n",
       "3      34.348330 -0.921676       2.0           0.0\n",
       "4      34.382614 -0.794835       1.0           0.0\n",
       "...          ...       ...       ...           ...\n",
       "50780  13.849249 -0.328271       1.0           0.0\n",
       "50781  19.643736 -0.160820       2.0           0.0\n",
       "50782  13.537420 -0.319323       0.0           0.0\n",
       "50783  22.692255 -0.133485       0.0           0.0\n",
       "50784  26.857704 -0.454477       1.0           0.0\n",
       "\n",
       "[50785 rows x 4 columns]"
      ]
     },
     "execution_count": 5,
     "metadata": {},
     "output_type": "execute_result"
    }
   ],
   "source": [
    "test_stack.split_table"
   ]
  },
  {
   "cell_type": "code",
   "execution_count": null,
   "id": "e90b2514",
   "metadata": {},
   "outputs": [],
   "source": []
  },
  {
   "cell_type": "code",
   "execution_count": null,
   "id": "eda94730",
   "metadata": {},
   "outputs": [],
   "source": []
  }
 ],
 "metadata": {
  "kernelspec": {
   "display_name": "Python 3 (ipykernel)",
   "language": "python",
   "name": "python3"
  },
  "language_info": {
   "codemirror_mode": {
    "name": "ipython",
    "version": 3
   },
   "file_extension": ".py",
   "mimetype": "text/x-python",
   "name": "python",
   "nbconvert_exporter": "python",
   "pygments_lexer": "ipython3",
   "version": "3.9.7"
  }
 },
 "nbformat": 4,
 "nbformat_minor": 5
}
