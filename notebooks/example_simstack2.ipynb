{
 "cells": [
  {
   "cell_type": "code",
   "execution_count": 1,
   "id": "23e01b61",
   "metadata": {},
   "outputs": [
    {
     "data": {
      "text/html": [
       "<style>.container { width:90% !important; }</style>"
      ],
      "text/plain": [
       "<IPython.core.display.HTML object>"
      ]
     },
     "metadata": {},
     "output_type": "display_data"
    }
   ],
   "source": [
    "# Standard modules\n",
    "import pdb\n",
    "import os\n",
    "import os.path\n",
    "import sys\n",
    "import json\n",
    "import shutil\n",
    "import time\n",
    "import logging\n",
    "import numpy as np\n",
    "import pandas as pd\n",
    "import pickle\n",
    "import matplotlib as mpl\n",
    "import matplotlib.cm as cm\n",
    "import matplotlib.pyplot as plt\n",
    "\n",
    "sys.path.append('..')\n",
    "from simstack import SimstackWrapper\n",
    "\n",
    "from IPython.core.display import display, HTML\n",
    "display(HTML(\"<style>.container { width:90% !important; }</style>\"))"
   ]
  },
  {
   "cell_type": "code",
   "execution_count": 24,
   "id": "b5bb844a",
   "metadata": {},
   "outputs": [
    {
     "name": "stdout",
     "output_type": "stream",
     "text": [
      "Number of Layers Stacking Simultaneously = 3\n",
      "Give these parameters real names!\n",
      "Number of Layers Stacking Simultaneously = 3\n",
      "Give these parameters real names!\n",
      "Number of Layers Stacking Simultaneously = 3\n",
      "Give these parameters real names!\n",
      "Number of Layers Stacking Simultaneously = 3\n",
      "Give these parameters real names!\n",
      "Number of Layers Stacking Simultaneously = 3\n",
      "Give these parameters real names!\n"
     ]
    }
   ],
   "source": [
    "path_ini_file = os.path.join(\"..\",\"examples\",\"hers_hetdex.ini\")\n",
    "test_hetdex = SimstackWrapper(path_ini_file)"
   ]
  },
  {
   "cell_type": "code",
   "execution_count": 2,
   "id": "caf4d3f8",
   "metadata": {},
   "outputs": [
    {
     "name": "stdout",
     "output_type": "stream",
     "text": [
      "Number of Layers Stacking Simultaneously = 12\n",
      "Give these parameters real names!\n",
      "Number of Layers Stacking Simultaneously = 12\n",
      "Give these parameters real names!\n",
      "Number of Layers Stacking Simultaneously = 12\n",
      "Give these parameters real names!\n",
      "Number of Layers Stacking Simultaneously = 12\n",
      "Give these parameters real names!\n",
      "Number of Layers Stacking Simultaneously = 12\n",
      "Give these parameters real names!\n",
      "Number of Layers Stacking Simultaneously = 12\n",
      "Give these parameters real names!\n",
      "Number of Layers Stacking Simultaneously = 12\n",
      "Give these parameters real names!\n",
      "Number of Layers Stacking Simultaneously = 12\n",
      "Give these parameters real names!\n"
     ]
    }
   ],
   "source": [
    "path_ini_file = os.path.join(\"..\",\"examples\",\"example.ini\")\n",
    "test_uvista = SimstackWrapper(path_ini_file)"
   ]
  },
  {
   "cell_type": "code",
   "execution_count": 20,
   "id": "5f7fb4e4",
   "metadata": {},
   "outputs": [
    {
     "data": {
      "text/plain": [
       "dict_keys(['0.0', '1.0', '2.0', '3.0', '4.0'])"
      ]
     },
     "execution_count": 20,
     "metadata": {},
     "output_type": "execute_result"
    }
   ],
   "source": [
    "test_hetdex.maps_dict['spire_plw']['stacked_flux_densities'].keys()"
   ]
  },
  {
   "cell_type": "code",
   "execution_count": 25,
   "id": "e936fe0f",
   "metadata": {},
   "outputs": [
    {
     "data": {
      "image/png": "[encoded data removed]",
      "text/plain": [
       "<Figure size 432x288 with 1 Axes>"
      ]
     },
     "metadata": {
      "needs_background": "light"
     },
     "output_type": "display_data"
    }
   ],
   "source": [
    "for ilayer in range(3):\n",
    "    layer = 'layer'+str(ilayer)\n",
    "    flux_density_hetdex = []\n",
    "    for i in range(5):\n",
    "        key = str(float(i))\n",
    "        flux_density_hetdex.append(test_hetdex.maps_dict['spire_plw']['stacked_flux_densities'][key].params[layer].value)\n",
    "    split_dict = json.loads(test_hetdex.config_dict['catalog']['classification'])\n",
    "    zbins = np.array(json.loads(split_dict['redshift']['bins']))\n",
    "    x = np.array(zbins[:-1]+zbins[1:])*0.5\n",
    "    plt.scatter(x, np.array(flux_density_hetdex)*1e3, label=layer);\n",
    "    plt.legend()\n",
    "    #plt.ylim([0.00001,0.5])"
   ]
  },
  {
   "cell_type": "code",
   "execution_count": 4,
   "id": "1f1d790b",
   "metadata": {},
   "outputs": [
    {
     "ename": "NameError",
     "evalue": "name 'test_hetdex' is not defined",
     "output_type": "error",
     "traceback": [
      "\u001b[1;31m---------------------------------------------------------------------------\u001b[0m",
      "\u001b[1;31mNameError\u001b[0m                                 Traceback (most recent call last)",
      "\u001b[1;32m<ipython-input-4-31985d859311>\u001b[0m in \u001b[0;36m<module>\u001b[1;34m\u001b[0m\n\u001b[0;32m      2\u001b[0m \u001b[1;32mfor\u001b[0m \u001b[0mi\u001b[0m \u001b[1;32min\u001b[0m \u001b[0mrange\u001b[0m\u001b[1;33m(\u001b[0m\u001b[1;36m6\u001b[0m\u001b[1;33m)\u001b[0m\u001b[1;33m:\u001b[0m\u001b[1;33m\u001b[0m\u001b[1;33m\u001b[0m\u001b[0m\n\u001b[0;32m      3\u001b[0m     \u001b[0mkey\u001b[0m \u001b[1;33m=\u001b[0m \u001b[0mstr\u001b[0m\u001b[1;33m(\u001b[0m\u001b[0mfloat\u001b[0m\u001b[1;33m(\u001b[0m\u001b[0mi\u001b[0m\u001b[1;33m)\u001b[0m\u001b[1;33m)\u001b[0m\u001b[1;33m\u001b[0m\u001b[1;33m\u001b[0m\u001b[0m\n\u001b[1;32m----> 4\u001b[1;33m     \u001b[0mflux_density\u001b[0m\u001b[1;33m.\u001b[0m\u001b[0mappend\u001b[0m\u001b[1;33m(\u001b[0m\u001b[0mtest_hetdex\u001b[0m\u001b[1;33m.\u001b[0m\u001b[0mmaps_dict\u001b[0m\u001b[1;33m[\u001b[0m\u001b[1;34m'spire_plw'\u001b[0m\u001b[1;33m]\u001b[0m\u001b[1;33m[\u001b[0m\u001b[1;34m'stacked_flux_densities'\u001b[0m\u001b[1;33m]\u001b[0m\u001b[1;33m[\u001b[0m\u001b[0mkey\u001b[0m\u001b[1;33m]\u001b[0m\u001b[1;33m.\u001b[0m\u001b[0mparams\u001b[0m\u001b[1;33m[\u001b[0m\u001b[1;34m'layer0'\u001b[0m\u001b[1;33m]\u001b[0m\u001b[1;33m.\u001b[0m\u001b[0mvalue\u001b[0m\u001b[1;33m)\u001b[0m\u001b[1;33m\u001b[0m\u001b[1;33m\u001b[0m\u001b[0m\n\u001b[0m",
      "\u001b[1;31mNameError\u001b[0m: name 'test_hetdex' is not defined"
     ]
    }
   ],
   "source": [
    "flux_density = []\n",
    "for i in range(6):\n",
    "    key = str(float(i))\n",
    "    flux_density.append(test_hetdex.maps_dict['spire_plw']['stacked_flux_densities'][key].params['layer0'].value)"
   ]
  },
  {
   "cell_type": "code",
   "execution_count": 81,
   "id": "33f5aca4",
   "metadata": {},
   "outputs": [
    {
     "data": {
      "image/png": "[encoded data removed]",
      "text/plain": [
       "<Figure size 432x288 with 1 Axes>"
      ]
     },
     "metadata": {
      "needs_background": "light"
     },
     "output_type": "display_data"
    }
   ],
   "source": [
    "split_dict = json.loads(test_stack.config_dict['catalog']['classification'])\n",
    "zbins = np.array(json.loads(split_dict['redshift']['bins']))\n",
    "x = np.array(zbins[:-1]+zbins[1:])*0.5\n",
    "plt.scatter(x, np.array(flux_density)*1e3);"
   ]
  },
  {
   "cell_type": "code",
   "execution_count": 5,
   "id": "f3ac41a3",
   "metadata": {},
   "outputs": [
    {
     "data": {
      "text/html": [
       "<h2>Fit Statistics</h2><table><tr><td>fitting method</td><td>leastsq</td><td></td></tr><tr><td># function evals</td><td>27</td><td></td></tr><tr><td># data points</td><td>543445</td><td></td></tr><tr><td># variables</td><td>12</td><td></td></tr><tr><td>chi-square</td><td> 6951947.00</td><td></td></tr><tr><td>reduced chi-square</td><td> 12.7926478</td><td></td></tr><tr><td>Akaike info crit.</td><td> 1385182.99</td><td></td></tr><tr><td>Bayesian info crit.</td><td> 1385317.46</td><td></td></tr></table><h2>Variables</h2><table><tr><th> name </th><th> value </th><th> standard error </th><th> relative error </th><th> initial value </th><th> min </th><th> max </th><th> vary </th></tr><tr><td> layer0 </td><td> -2.6164e-04 </td><td>  9.9775e-07 </td><td> (0.38%) </td><td> -0.001060131782125248 </td><td>        -inf </td><td>         inf </td><td> True </td></tr><tr><td> layer1 </td><td> -1.8850e-05 </td><td>  1.2669e-07 </td><td> (0.67%) </td><td> 0.0008483828728151791 </td><td>        -inf </td><td>         inf </td><td> True </td></tr><tr><td> layer2 </td><td>  1.5797e-04 </td><td>  6.4113e-07 </td><td> (0.41%) </td><td> -0.0012386139787697674 </td><td>        -inf </td><td>         inf </td><td> True </td></tr><tr><td> layer3 </td><td> -4.6269e-06 </td><td>  1.9433e-07 </td><td> (4.20%) </td><td> 0.0002299999634267791 </td><td>        -inf </td><td>         inf </td><td> True </td></tr><tr><td> layer4 </td><td>  1.7886e-04 </td><td>  9.2600e-07 </td><td> (0.52%) </td><td> -0.000632226691785961 </td><td>        -inf </td><td>         inf </td><td> True </td></tr><tr><td> layer5 </td><td> -1.2988e-04 </td><td>  3.2333e-07 </td><td> (0.25%) </td><td> -0.0017937847025843417 </td><td>        -inf </td><td>         inf </td><td> True </td></tr><tr><td> layer6 </td><td>  6.4682e-05 </td><td>  9.0906e-07 </td><td> (1.41%) </td><td> -0.00043134533568359645 </td><td>        -inf </td><td>         inf </td><td> True </td></tr><tr><td> layer7 </td><td>  3.2894e-05 </td><td>  2.0201e-07 </td><td> (0.61%) </td><td> 0.00043575089704674477 </td><td>        -inf </td><td>         inf </td><td> True </td></tr><tr><td> layer8 </td><td> -1.0653e-04 </td><td>  5.0289e-07 </td><td> (0.47%) </td><td> -0.0007123003149274583 </td><td>        -inf </td><td>         inf </td><td> True </td></tr><tr><td> layer9 </td><td> -4.0473e-04 </td><td>  1.0350e-06 </td><td> (0.26%) </td><td> -0.00022862672171216727 </td><td>        -inf </td><td>         inf </td><td> True </td></tr><tr><td> layer10 </td><td>  2.5532e-04 </td><td>  1.0894e-06 </td><td> (0.43%) </td><td> -0.00013427332388496943 </td><td>        -inf </td><td>         inf </td><td> True </td></tr><tr><td> layer11 </td><td>  2.9503e-05 </td><td>  8.4504e-07 </td><td> (2.86%) </td><td> -0.0006553655330043983 </td><td>        -inf </td><td>         inf </td><td> True </td></tr></table><h2>Correlations (unreported correlations are < 0.100)</h2><table><tr><td>layer6</td><td>layer10</td><td>-0.7867</td></tr><tr><td>layer3</td><td>layer6</td><td>-0.7832</td></tr><tr><td>layer0</td><td>layer4</td><td>-0.6700</td></tr><tr><td>layer3</td><td>layer10</td><td>0.5890</td></tr><tr><td>layer5</td><td>layer9</td><td>-0.5852</td></tr><tr><td>layer6</td><td>layer7</td><td>0.5277</td></tr><tr><td>layer3</td><td>layer7</td><td>-0.5092</td></tr><tr><td>layer2</td><td>layer4</td><td>-0.4476</td></tr><tr><td>layer2</td><td>layer10</td><td>-0.4222</td></tr><tr><td>layer7</td><td>layer10</td><td>-0.4218</td></tr><tr><td>layer0</td><td>layer8</td><td>-0.4149</td></tr><tr><td>layer1</td><td>layer7</td><td>-0.3673</td></tr><tr><td>layer4</td><td>layer5</td><td>-0.3266</td></tr><tr><td>layer0</td><td>layer2</td><td>0.3192</td></tr><tr><td>layer4</td><td>layer10</td><td>0.3095</td></tr><tr><td>layer10</td><td>layer11</td><td>0.3072</td></tr><tr><td>layer2</td><td>layer5</td><td>-0.2711</td></tr><tr><td>layer6</td><td>layer11</td><td>-0.2587</td></tr><tr><td>layer8</td><td>layer10</td><td>-0.2336</td></tr><tr><td>layer4</td><td>layer9</td><td>0.2232</td></tr><tr><td>layer3</td><td>layer11</td><td>0.2082</td></tr><tr><td>layer0</td><td>layer1</td><td>-0.1982</td></tr><tr><td>layer2</td><td>layer8</td><td>0.1976</td></tr><tr><td>layer1</td><td>layer5</td><td>-0.1890</td></tr><tr><td>layer7</td><td>layer11</td><td>-0.1785</td></tr><tr><td>layer5</td><td>layer10</td><td>-0.1760</td></tr><tr><td>layer5</td><td>layer11</td><td>-0.1636</td></tr><tr><td>layer1</td><td>layer9</td><td>-0.1598</td></tr><tr><td>layer7</td><td>layer9</td><td>0.1563</td></tr><tr><td>layer0</td><td>layer9</td><td>-0.1482</td></tr><tr><td>layer9</td><td>layer11</td><td>0.1397</td></tr><tr><td>layer5</td><td>layer8</td><td>0.1239</td></tr><tr><td>layer4</td><td>layer6</td><td>-0.1179</td></tr><tr><td>layer0</td><td>layer10</td><td>-0.1163</td></tr><tr><td>layer8</td><td>layer9</td><td>-0.1122</td></tr><tr><td>layer1</td><td>layer3</td><td>-0.1118</td></tr><tr><td>layer1</td><td>layer10</td><td>0.1103</td></tr><tr><td>layer5</td><td>layer7</td><td>-0.1083</td></tr><tr><td>layer1</td><td>layer4</td><td>0.1077</td></tr></table>"
      ],
      "text/plain": [
       "<lmfit.minimizer.MinimizerResult at 0x18b1dad4eb0>"
      ]
     },
     "execution_count": 5,
     "metadata": {},
     "output_type": "execute_result"
    }
   ],
   "source": [
    "test_uvista.maps_dict['spire_plw']['stacked_flux_densities'][key]"
   ]
  },
  {
   "cell_type": "code",
   "execution_count": 16,
   "id": "5f6dabac",
   "metadata": {},
   "outputs": [
    {
     "data": {
      "image/png": "[encoded data removed]",
      "text/plain": [
       "<Figure size 432x288 with 1 Axes>"
      ]
     },
     "metadata": {
      "needs_background": "light"
     },
     "output_type": "display_data"
    }
   ],
   "source": [
    "for ilayer in range(12):\n",
    "    layer = 'layer'+str(ilayer)\n",
    "    flux_density_uvista = []\n",
    "    for i in range(8):\n",
    "        key = str(float(i))\n",
    "        flux_density_uvista.append(test_uvista.maps_dict['spire_plw']['stacked_flux_densities'][key].params[layer].value)\n",
    "    split_dict = json.loads(test_uvista.config_dict['catalog']['classification'])\n",
    "    zbins = np.array(json.loads(split_dict['redshift']['bins']))\n",
    "    x = np.array(zbins[:-1]+zbins[1:])*0.5\n",
    "    plt.scatter(x, np.array(flux_density_uvista)*1e3, label=layer);\n",
    "    plt.legend()\n",
    "    #plt.ylim([0.00001,0.5])"
   ]
  },
  {
   "cell_type": "code",
   "execution_count": 7,
   "id": "e4fd0e95",
   "metadata": {},
   "outputs": [
    {
     "data": {
      "image/png": "[encoded data removed]",
      "text/plain": [
       "<Figure size 432x288 with 1 Axes>"
      ]
     },
     "metadata": {
      "needs_background": "light"
     },
     "output_type": "display_data"
    }
   ],
   "source": []
  },
  {
   "cell_type": "code",
   "execution_count": 53,
   "id": "5b0a3b68",
   "metadata": {},
   "outputs": [
    {
     "data": {
      "text/plain": [
       "array([0.55, 1.5 , 2.5 , 3.5 , 4.5 , 5.5 ])"
      ]
     },
     "execution_count": 53,
     "metadata": {},
     "output_type": "execute_result"
    }
   ],
   "source": [
    "x"
   ]
  },
  {
   "cell_type": "code",
   "execution_count": 39,
   "id": "b4ea7172",
   "metadata": {},
   "outputs": [
    {
     "data": {
      "text/plain": [
       "[0.00036364386013441896,\n",
       " 0.00041375502216667423,\n",
       " 0.0002950844461433852,\n",
       " 0.00018458649009391308,\n",
       " -8.367427002030895e-05,\n",
       " -0.0005145838158841628]"
      ]
     },
     "execution_count": 39,
     "metadata": {},
     "output_type": "execute_result"
    }
   ],
   "source": [
    "flux_density"
   ]
  },
  {
   "cell_type": "code",
   "execution_count": 5,
   "id": "b8fb3e08",
   "metadata": {},
   "outputs": [
    {
     "data": {
      "text/html": [
       "<div>\n",
       "<style scoped>\n",
       "    .dataframe tbody tr th:only-of-type {\n",
       "        vertical-align: middle;\n",
       "    }\n",
       "\n",
       "    .dataframe tbody tr th {\n",
       "        vertical-align: top;\n",
       "    }\n",
       "\n",
       "    .dataframe thead th {\n",
       "        text-align: right;\n",
       "    }\n",
       "</style>\n",
       "<table border=\"1\" class=\"dataframe\">\n",
       "  <thead>\n",
       "    <tr style=\"text-align: right;\">\n",
       "      <th></th>\n",
       "      <th>ra</th>\n",
       "      <th>dec</th>\n",
       "      <th>redshift</th>\n",
       "      <th>stellar_mass</th>\n",
       "    </tr>\n",
       "  </thead>\n",
       "  <tbody>\n",
       "    <tr>\n",
       "      <th>0</th>\n",
       "      <td>34.347645</td>\n",
       "      <td>-0.898693</td>\n",
       "      <td>2.0</td>\n",
       "      <td>0.0</td>\n",
       "    </tr>\n",
       "    <tr>\n",
       "      <th>1</th>\n",
       "      <td>34.356080</td>\n",
       "      <td>-0.903736</td>\n",
       "      <td>3.0</td>\n",
       "      <td>0.0</td>\n",
       "    </tr>\n",
       "    <tr>\n",
       "      <th>2</th>\n",
       "      <td>34.356940</td>\n",
       "      <td>-0.894889</td>\n",
       "      <td>5.0</td>\n",
       "      <td>0.0</td>\n",
       "    </tr>\n",
       "    <tr>\n",
       "      <th>3</th>\n",
       "      <td>34.348330</td>\n",
       "      <td>-0.921676</td>\n",
       "      <td>2.0</td>\n",
       "      <td>0.0</td>\n",
       "    </tr>\n",
       "    <tr>\n",
       "      <th>4</th>\n",
       "      <td>34.382614</td>\n",
       "      <td>-0.794835</td>\n",
       "      <td>1.0</td>\n",
       "      <td>0.0</td>\n",
       "    </tr>\n",
       "    <tr>\n",
       "      <th>...</th>\n",
       "      <td>...</td>\n",
       "      <td>...</td>\n",
       "      <td>...</td>\n",
       "      <td>...</td>\n",
       "    </tr>\n",
       "    <tr>\n",
       "      <th>50780</th>\n",
       "      <td>13.849249</td>\n",
       "      <td>-0.328271</td>\n",
       "      <td>1.0</td>\n",
       "      <td>0.0</td>\n",
       "    </tr>\n",
       "    <tr>\n",
       "      <th>50781</th>\n",
       "      <td>19.643736</td>\n",
       "      <td>-0.160820</td>\n",
       "      <td>2.0</td>\n",
       "      <td>0.0</td>\n",
       "    </tr>\n",
       "    <tr>\n",
       "      <th>50782</th>\n",
       "      <td>13.537420</td>\n",
       "      <td>-0.319323</td>\n",
       "      <td>0.0</td>\n",
       "      <td>0.0</td>\n",
       "    </tr>\n",
       "    <tr>\n",
       "      <th>50783</th>\n",
       "      <td>22.692255</td>\n",
       "      <td>-0.133485</td>\n",
       "      <td>0.0</td>\n",
       "      <td>0.0</td>\n",
       "    </tr>\n",
       "    <tr>\n",
       "      <th>50784</th>\n",
       "      <td>26.857704</td>\n",
       "      <td>-0.454477</td>\n",
       "      <td>1.0</td>\n",
       "      <td>0.0</td>\n",
       "    </tr>\n",
       "  </tbody>\n",
       "</table>\n",
       "<p>50785 rows × 4 columns</p>\n",
       "</div>"
      ],
      "text/plain": [
       "              ra       dec  redshift  stellar_mass\n",
       "0      34.347645 -0.898693       2.0           0.0\n",
       "1      34.356080 -0.903736       3.0           0.0\n",
       "2      34.356940 -0.894889       5.0           0.0\n",
       "3      34.348330 -0.921676       2.0           0.0\n",
       "4      34.382614 -0.794835       1.0           0.0\n",
       "...          ...       ...       ...           ...\n",
       "50780  13.849249 -0.328271       1.0           0.0\n",
       "50781  19.643736 -0.160820       2.0           0.0\n",
       "50782  13.537420 -0.319323       0.0           0.0\n",
       "50783  22.692255 -0.133485       0.0           0.0\n",
       "50784  26.857704 -0.454477       1.0           0.0\n",
       "\n",
       "[50785 rows x 4 columns]"
      ]
     },
     "execution_count": 5,
     "metadata": {},
     "output_type": "execute_result"
    }
   ],
   "source": [
    "test_stack.split_table"
   ]
  },
  {
   "cell_type": "code",
   "execution_count": null,
   "id": "5078bba7",
   "metadata": {},
   "outputs": [],
   "source": []
  },
  {
   "cell_type": "code",
   "execution_count": null,
   "id": "e91a2ae3",
   "metadata": {},
   "outputs": [],
   "source": []
  }
 ],
 "metadata": {
  "kernelspec": {
   "display_name": "Python 3",
   "language": "python",
   "name": "python3"
  },
  "language_info": {
   "codemirror_mode": {
    "name": "ipython",
    "version": 3
   },
   "file_extension": ".py",
   "mimetype": "text/x-python",
   "name": "python",
   "nbconvert_exporter": "python",
   "pygments_lexer": "ipython3",
   "version": "3.8.10"
  }
 },
 "nbformat": 4,
 "nbformat_minor": 5
}
