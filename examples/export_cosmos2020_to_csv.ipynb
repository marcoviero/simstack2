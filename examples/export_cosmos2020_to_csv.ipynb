{
 "cells": [
  {
   "cell_type": "code",
   "execution_count": 10,
   "id": "3670583e",
   "metadata": {},
   "outputs": [
    {
     "data": {
      "text/html": [
       "<style>.container { width:90% !important; }</style>"
      ],
      "text/plain": [
       "<IPython.core.display.HTML object>"
      ]
     },
     "metadata": {},
     "output_type": "display_data"
    }
   ],
   "source": [
    "# Standard modules\n",
    "import pdb\n",
    "import os\n",
    "import sys\n",
    "import matplotlib.pyplot as plt\n",
    "import warnings\n",
    "warnings.filterwarnings(\"ignore\")\n",
    "\n",
    "sys.path.append('..')\n",
    "from simstackwrapper import SimstackWrapper\n",
    "\n",
    "from IPython.core.display import display, HTML\n",
    "display(HTML(\"<style>.container { width:90% !important; }</style>\"))"
   ]
  },
  {
   "cell_type": "markdown",
   "id": "ef83f426",
   "metadata": {},
   "source": [
    "# Import .fits table"
   ]
  },
  {
   "cell_type": "code",
   "execution_count": 2,
   "id": "9286a89e",
   "metadata": {},
   "outputs": [
    {
     "name": "stdout",
     "output_type": "stream",
     "text": [
      "Open  D:\\catalogs\\cosmos\\COSMOS2020_CLASSIC_R1_v2.0.fits\n"
     ]
    }
   ],
   "source": [
    "from astropy.io import fits\n",
    "path_cosmos2020 = os.path.join(os.environ['CATSPATH'], \"cosmos\",\"COSMOS2020_CLASSIC_R1_v2.0.fits\")\n",
    "if os.path.isfile(path_cosmos2020):\n",
    "    print('Open ',path_cosmos2020)\n",
    "    with fits.open(path_cosmos2020) as hdul:\n",
    "        hdul.verify('fix')\n",
    "        cosmos_catalog = hdul[1].data\n",
    "else:\n",
    "    print(path_cosmos2020, ' not found')"
   ]
  },
  {
   "cell_type": "code",
   "execution_count": 3,
   "id": "b7e49f0c",
   "metadata": {},
   "outputs": [],
   "source": [
    "import pandas as pd\n",
    "cosmos2020 = pd.DataFrame(cosmos_catalog)"
   ]
  },
  {
   "cell_type": "code",
   "execution_count": 4,
   "id": "b80b47a0",
   "metadata": {},
   "outputs": [
    {
     "data": {
      "text/html": [
       "<div>\n",
       "<style scoped>\n",
       "    .dataframe tbody tr th:only-of-type {\n",
       "        vertical-align: middle;\n",
       "    }\n",
       "\n",
       "    .dataframe tbody tr th {\n",
       "        vertical-align: top;\n",
       "    }\n",
       "\n",
       "    .dataframe thead th {\n",
       "        text-align: right;\n",
       "    }\n",
       "</style>\n",
       "<table border=\"1\" class=\"dataframe\">\n",
       "  <thead>\n",
       "    <tr style=\"text-align: right;\">\n",
       "      <th></th>\n",
       "      <th>ID</th>\n",
       "      <th>ALPHA_J2000</th>\n",
       "      <th>DELTA_J2000</th>\n",
       "      <th>X_IMAGE</th>\n",
       "      <th>Y_IMAGE</th>\n",
       "      <th>ERRX2_IMAGE</th>\n",
       "      <th>ERRY2_IMAGE</th>\n",
       "      <th>ERRXY_IMAGE</th>\n",
       "      <th>FLUX_RADIUS</th>\n",
       "      <th>KRON_RADIUS</th>\n",
       "      <th>...</th>\n",
       "      <th>ez_ssfr_p025</th>\n",
       "      <th>ez_ssfr_p160</th>\n",
       "      <th>ez_ssfr_p500</th>\n",
       "      <th>ez_ssfr_p840</th>\n",
       "      <th>ez_ssfr_p975</th>\n",
       "      <th>ez_Av_p025</th>\n",
       "      <th>ez_Av_p160</th>\n",
       "      <th>ez_Av_p500</th>\n",
       "      <th>ez_Av_p840</th>\n",
       "      <th>ez_Av_p975</th>\n",
       "    </tr>\n",
       "  </thead>\n",
       "  <tbody>\n",
       "    <tr>\n",
       "      <th>0</th>\n",
       "      <td>1</td>\n",
       "      <td>151.008534</td>\n",
       "      <td>1.398278</td>\n",
       "      <td>1304.953247</td>\n",
       "      <td>2579.132324</td>\n",
       "      <td>0.000009</td>\n",
       "      <td>0.000010</td>\n",
       "      <td>-8.461303e-07</td>\n",
       "      <td>NaN</td>\n",
       "      <td>NaN</td>\n",
       "      <td>...</td>\n",
       "      <td>3.073000e-14</td>\n",
       "      <td>3.306278e-14</td>\n",
       "      <td>3.696300e-14</td>\n",
       "      <td>3.828873e-14</td>\n",
       "      <td>3.828873e-14</td>\n",
       "      <td>0.704550</td>\n",
       "      <td>0.809278</td>\n",
       "      <td>0.896577</td>\n",
       "      <td>0.961172</td>\n",
       "      <td>1.070924</td>\n",
       "    </tr>\n",
       "    <tr>\n",
       "      <th>1</th>\n",
       "      <td>2</td>\n",
       "      <td>151.028825</td>\n",
       "      <td>1.404349</td>\n",
       "      <td>818.016785</td>\n",
       "      <td>2725.062988</td>\n",
       "      <td>0.000017</td>\n",
       "      <td>0.000017</td>\n",
       "      <td>-8.587199e-07</td>\n",
       "      <td>NaN</td>\n",
       "      <td>NaN</td>\n",
       "      <td>...</td>\n",
       "      <td>NaN</td>\n",
       "      <td>NaN</td>\n",
       "      <td>NaN</td>\n",
       "      <td>NaN</td>\n",
       "      <td>NaN</td>\n",
       "      <td>NaN</td>\n",
       "      <td>NaN</td>\n",
       "      <td>NaN</td>\n",
       "      <td>NaN</td>\n",
       "      <td>NaN</td>\n",
       "    </tr>\n",
       "    <tr>\n",
       "      <th>2</th>\n",
       "      <td>3</td>\n",
       "      <td>151.007706</td>\n",
       "      <td>1.398440</td>\n",
       "      <td>1324.814453</td>\n",
       "      <td>2583.007812</td>\n",
       "      <td>0.006722</td>\n",
       "      <td>0.008490</td>\n",
       "      <td>-7.216642e-04</td>\n",
       "      <td>NaN</td>\n",
       "      <td>NaN</td>\n",
       "      <td>...</td>\n",
       "      <td>NaN</td>\n",
       "      <td>NaN</td>\n",
       "      <td>NaN</td>\n",
       "      <td>NaN</td>\n",
       "      <td>NaN</td>\n",
       "      <td>NaN</td>\n",
       "      <td>NaN</td>\n",
       "      <td>NaN</td>\n",
       "      <td>NaN</td>\n",
       "      <td>NaN</td>\n",
       "    </tr>\n",
       "    <tr>\n",
       "      <th>3</th>\n",
       "      <td>4</td>\n",
       "      <td>150.162372</td>\n",
       "      <td>1.391619</td>\n",
       "      <td>21610.509766</td>\n",
       "      <td>2415.219971</td>\n",
       "      <td>0.031749</td>\n",
       "      <td>0.016943</td>\n",
       "      <td>6.141999e-06</td>\n",
       "      <td>NaN</td>\n",
       "      <td>NaN</td>\n",
       "      <td>...</td>\n",
       "      <td>1.191863e-10</td>\n",
       "      <td>1.356004e-10</td>\n",
       "      <td>1.582931e-10</td>\n",
       "      <td>1.872021e-10</td>\n",
       "      <td>2.076506e-10</td>\n",
       "      <td>1.659753</td>\n",
       "      <td>1.739529</td>\n",
       "      <td>1.869392</td>\n",
       "      <td>1.989442</td>\n",
       "      <td>2.089466</td>\n",
       "    </tr>\n",
       "    <tr>\n",
       "      <th>4</th>\n",
       "      <td>5</td>\n",
       "      <td>149.540181</td>\n",
       "      <td>1.391537</td>\n",
       "      <td>36540.632812</td>\n",
       "      <td>2414.936523</td>\n",
       "      <td>0.030666</td>\n",
       "      <td>0.016909</td>\n",
       "      <td>3.998309e-03</td>\n",
       "      <td>NaN</td>\n",
       "      <td>NaN</td>\n",
       "      <td>...</td>\n",
       "      <td>5.692379e-12</td>\n",
       "      <td>1.106644e-11</td>\n",
       "      <td>8.179705e-11</td>\n",
       "      <td>1.089352e-08</td>\n",
       "      <td>1.089352e-08</td>\n",
       "      <td>0.032678</td>\n",
       "      <td>0.032678</td>\n",
       "      <td>2.129271</td>\n",
       "      <td>3.005573</td>\n",
       "      <td>3.125110</td>\n",
       "    </tr>\n",
       "  </tbody>\n",
       "</table>\n",
       "<p>5 rows × 753 columns</p>\n",
       "</div>"
      ],
      "text/plain": [
       "   ID  ALPHA_J2000  DELTA_J2000       X_IMAGE      Y_IMAGE  ERRX2_IMAGE  \\\n",
       "0   1   151.008534     1.398278   1304.953247  2579.132324     0.000009   \n",
       "1   2   151.028825     1.404349    818.016785  2725.062988     0.000017   \n",
       "2   3   151.007706     1.398440   1324.814453  2583.007812     0.006722   \n",
       "3   4   150.162372     1.391619  21610.509766  2415.219971     0.031749   \n",
       "4   5   149.540181     1.391537  36540.632812  2414.936523     0.030666   \n",
       "\n",
       "   ERRY2_IMAGE   ERRXY_IMAGE  FLUX_RADIUS  KRON_RADIUS  ...  ez_ssfr_p025  \\\n",
       "0     0.000010 -8.461303e-07          NaN          NaN  ...  3.073000e-14   \n",
       "1     0.000017 -8.587199e-07          NaN          NaN  ...           NaN   \n",
       "2     0.008490 -7.216642e-04          NaN          NaN  ...           NaN   \n",
       "3     0.016943  6.141999e-06          NaN          NaN  ...  1.191863e-10   \n",
       "4     0.016909  3.998309e-03          NaN          NaN  ...  5.692379e-12   \n",
       "\n",
       "   ez_ssfr_p160  ez_ssfr_p500  ez_ssfr_p840  ez_ssfr_p975  ez_Av_p025  \\\n",
       "0  3.306278e-14  3.696300e-14  3.828873e-14  3.828873e-14    0.704550   \n",
       "1           NaN           NaN           NaN           NaN         NaN   \n",
       "2           NaN           NaN           NaN           NaN         NaN   \n",
       "3  1.356004e-10  1.582931e-10  1.872021e-10  2.076506e-10    1.659753   \n",
       "4  1.106644e-11  8.179705e-11  1.089352e-08  1.089352e-08    0.032678   \n",
       "\n",
       "   ez_Av_p160  ez_Av_p500  ez_Av_p840  ez_Av_p975  \n",
       "0    0.809278    0.896577    0.961172    1.070924  \n",
       "1         NaN         NaN         NaN         NaN  \n",
       "2         NaN         NaN         NaN         NaN  \n",
       "3    1.739529    1.869392    1.989442    2.089466  \n",
       "4    0.032678    2.129271    3.005573    3.125110  \n",
       "\n",
       "[5 rows x 753 columns]"
      ]
     },
     "execution_count": 4,
     "metadata": {},
     "output_type": "execute_result"
    }
   ],
   "source": [
    "cosmos2020.head()"
   ]
  },
  {
   "cell_type": "markdown",
   "id": "98775227",
   "metadata": {},
   "source": [
    "# Convert to vaex for speed"
   ]
  },
  {
   "cell_type": "code",
   "execution_count": 5,
   "id": "4e47a266",
   "metadata": {},
   "outputs": [],
   "source": [
    "import vaex\n",
    "vaex_df = vaex.from_pandas(cosmos2020, copy_index=False)"
   ]
  },
  {
   "cell_type": "code",
   "execution_count": 6,
   "id": "07c76c08",
   "metadata": {},
   "outputs": [],
   "source": [
    "# Export to hdf5 for more efficient use later\n",
    "path_cosmos2020_hdf5 = os.path.join(os.environ['CATSPATH'], \"cosmos\",\"cosmos2020.hdf5\")\n",
    "vaex_df.export_hdf5(path_cosmos2020_hdf5)"
   ]
  },
  {
   "cell_type": "code",
   "execution_count": 7,
   "id": "3fe770d5",
   "metadata": {},
   "outputs": [],
   "source": [
    "# Convert flux to magnitude\n",
    "# AB = -2.5 log S (Jy) + 8.9\n",
    "vaex_df['rest_AB_U'] = (-2.5 * np.log10(vaex_df.ez_restU * 1e6) + 8.9)\n",
    "vaex_df['rest_AB_V'] = (-2.5 * np.log10(vaex_df.ez_restV * 1e6) + 8.9)\n",
    "vaex_df['rest_AB_J'] = (-2.5 * np.log10(vaex_df.ez_restJ * 1e6) + 8.9)"
   ]
  },
  {
   "cell_type": "code",
   "execution_count": 8,
   "id": "3bd3f7d0",
   "metadata": {},
   "outputs": [],
   "source": [
    "# Estimate rest-frame U-V and V-J\n",
    "vaex_df['ez_restU-V']=(vaex_df.rest_AB_U - vaex_df.rest_AB_V) \n",
    "vaex_df['ez_restV-J']=(vaex_df.rest_AB_V - vaex_df.rest_AB_J)"
   ]
  },
  {
   "cell_type": "code",
   "execution_count": 9,
   "id": "fa204c9b",
   "metadata": {},
   "outputs": [
    {
     "ename": "SyntaxError",
     "evalue": "invalid syntax (<ipython-input-9-ac77dc7b17bc>, line 4)",
     "output_type": "error",
     "traceback": [
      "\u001b[1;36m  File \u001b[1;32m\"<ipython-input-9-ac77dc7b17bc>\"\u001b[1;36m, line \u001b[1;32m4\u001b[0m\n\u001b[1;33m    uvj_df = uvj_df_raw[uvj_df_raw['lp_type'] => 0]\u001b[0m\n\u001b[1;37m                                              ^\u001b[0m\n\u001b[1;31mSyntaxError\u001b[0m\u001b[1;31m:\u001b[0m invalid syntax\n"
     ]
    }
   ],
   "source": [
    "# Extract subset of array and drop nans\n",
    "features = ['ALPHA_J2000','DELTA_J2000','lp_zBEST','lp_mass_med','ez_restU-V','ez_restV-J','lp_sSFR_med','lp_type']\n",
    "uvj_df_raw = vaex_df[features].dropna()\n",
    "uvj_df = uvj_df_raw[uvj_df_raw['lp_type'] => 0]"
   ]
  },
  {
   "cell_type": "code",
   "execution_count": null,
   "id": "177fd410",
   "metadata": {},
   "outputs": [],
   "source": [
    "print(np.unique(uvj_df['lp_type'].values), ': unique values present in lp_type')\n",
    "print(np.sum(uvj_df['lp_type'].values == -99), ' stars?')\n",
    "print(np.sum(uvj_df['lp_type'].values == 0), ' galaxies')\n",
    "print(np.sum(uvj_df['lp_type'].values == 1), ' agn')"
   ]
  },
  {
   "cell_type": "code",
   "execution_count": null,
   "id": "9817c713",
   "metadata": {},
   "outputs": [],
   "source": [
    "uvj_df.head()"
   ]
  },
  {
   "cell_type": "markdown",
   "id": "07ca968d",
   "metadata": {},
   "source": [
    "# Export simplified, nan-free table, to csv"
   ]
  },
  {
   "cell_type": "code",
   "execution_count": null,
   "id": "5e0a4aba",
   "metadata": {},
   "outputs": [],
   "source": [
    "path_cosmos2020_csv = os.path.join(os.environ['CATSPATH'], \"cosmos\",\"cosmos2020_UVJ.csv\")\n",
    "uvj_df.export_csv(path_cosmos2020_csv)"
   ]
  },
  {
   "cell_type": "markdown",
   "id": "df1078e6",
   "metadata": {},
   "source": [
    "# Plot U-V/V-J vs specific star-formation rate"
   ]
  },
  {
   "cell_type": "code",
   "execution_count": null,
   "id": "d4879cfb",
   "metadata": {},
   "outputs": [],
   "source": [
    "sfr_cut = -9.5\n",
    "ns=10000\n",
    "uvj_df[:ns].scatter(uvj_df['ez_restV-J'],uvj_df['ez_restU-V'], selection = uvj_df['lp_sSFR_med'] > sfr_cut, alpha=0.25)\n",
    "uvj_df[:ns].scatter(uvj_df['ez_restV-J'],uvj_df['ez_restU-V'], selection = uvj_df['lp_sSFR_med'] <= sfr_cut, alpha=0.25)"
   ]
  },
  {
   "cell_type": "code",
   "execution_count": null,
   "id": "49120fa6",
   "metadata": {},
   "outputs": [],
   "source": []
  }
 ],
 "metadata": {
  "kernelspec": {
   "display_name": "Python 3",
   "language": "python",
   "name": "python3"
  },
  "language_info": {
   "codemirror_mode": {
    "name": "ipython",
    "version": 3
   },
   "file_extension": ".py",
   "mimetype": "text/x-python",
   "name": "python",
   "nbconvert_exporter": "python",
   "pygments_lexer": "ipython3",
   "version": "3.8.10"
  }
 },
 "nbformat": 4,
 "nbformat_minor": 5
}
